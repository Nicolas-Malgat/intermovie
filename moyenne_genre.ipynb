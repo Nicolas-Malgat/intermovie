{
 "metadata": {
  "language_info": {
   "codemirror_mode": {
    "name": "ipython",
    "version": 3
   },
   "file_extension": ".py",
   "mimetype": "text/x-python",
   "name": "python",
   "nbconvert_exporter": "python",
   "pygments_lexer": "ipython3",
   "version": "3.7.6-final"
  },
  "orig_nbformat": 2,
  "kernelspec": {
   "name": "python3",
   "display_name": "Python 3"
  }
 },
 "nbformat": 4,
 "nbformat_minor": 2,
 "cells": [
  {
   "source": [
    "# Intermovie - projet 6 \n",
    "Utilisation de dataframes pour manipuler des données. Exportation en CSV pour chaque dataframe créé. "
   ],
   "cell_type": "markdown",
   "metadata": {}
  },
  {
   "source": [
    "## Import des librairies"
   ],
   "cell_type": "markdown",
   "metadata": {}
  },
  {
   "cell_type": "code",
   "execution_count": null,
   "metadata": {
    "tags": []
   },
   "outputs": [],
   "source": [
    "import pandas as pd\n",
    "\n",
    "%load_ext autoreload\n",
    "%autoreload 2"
   ]
  },
  {
   "source": [
    "## 2. Les notes moyennes des différents genres\n",
    "### Import des datas initiaux :"
   ],
   "cell_type": "markdown",
   "metadata": {}
  },
  {
   "cell_type": "code",
   "execution_count": null,
   "metadata": {
    "tags": []
   },
   "outputs": [],
   "source": [
    "title_basics = pd.read_csv(\"../movies_dataset/title.basics.tsv\",sep='\\t')\n",
    "print('Title Basics imported.')\n",
    "\n",
    "title_ratings = pd.read_csv(\"../movies_dataset/title.ratings.tsv\",sep='\\t')\n",
    "print('Title Ratings imported.')"
   ]
  },
  {
   "source": [
    "### Nettoyage du dataset :"
   ],
   "cell_type": "markdown",
   "metadata": {}
  },
  {
   "cell_type": "code",
   "execution_count": null,
   "metadata": {
    "tags": []
   },
   "outputs": [],
   "source": [
    "title_basics = title_basics.dropna()\n",
    "title_basics = title_basics[['tconst', 'genres']][title_basics.titleType.str.contains('movie|tvMovie', regex=True)]\n",
    "\n",
    "title_ratings = title_ratings.dropna()\n",
    "title_ratings = title_ratings[['tconst', 'averageRating']]"
   ]
  },
  {
   "source": [
    "### Jointure des tables :"
   ],
   "cell_type": "markdown",
   "metadata": {}
  },
  {
   "cell_type": "code",
   "execution_count": 26,
   "metadata": {},
   "outputs": [],
   "source": [
    "# sauvegarde = title_basics.copy()\n",
    "title_basics = sauvegarde.copy()"
   ]
  },
  {
   "cell_type": "code",
   "execution_count": 27,
   "metadata": {
    "tags": []
   },
   "outputs": [],
   "source": [
    "title_basics = title_basics.merge(title_ratings, how='left', on=['tconst'])\n",
    "title_basics = title_basics.dropna()\n",
    "title_basics = title_basics[title_basics.genres != '\\\\N']"
   ]
  },
  {
   "cell_type": "code",
   "execution_count": 28,
   "metadata": {},
   "outputs": [],
   "source": [
    "moyenne_genre = pd.DataFrame(title_basics.genres.str.split(',').tolist(), index=title_basics.tconst).stack()\n",
    "title_basics = title_basics.drop(columns=['genres'])\n",
    "\n",
    "moyenne_genre = moyenne_genre.reset_index([0, 'tconst'])\n",
    "moyenne_genre.columns = ['tconst', 'genre']\n",
    "\n",
    "moyenne_genre = moyenne_genre.merge(title_basics, how='left', on=['tconst'])\n",
    "moyenne_genre = moyenne_genre[moyenne_genre.genre != '\\\\N']"
   ]
  },
  {
   "cell_type": "code",
   "execution_count": 29,
   "metadata": {},
   "outputs": [
    {
     "output_type": "execute_result",
     "data": {
      "text/plain": "             averageRating\ngenre                     \nAction            5.708165\nAdult             5.725158\nAdventure         5.885921\nAnimation         6.432795\nBiography         6.974517\nComedy            6.008559\nCrime             6.065863\nDocumentary       7.210440\nDrama             6.327951\nFamily            6.287336\nFantasy           5.977322\nFilm-Noir         6.636247\nGame-Show         6.975000\nHistory           6.881349\nHorror            5.069616\nMusic             6.917638\nMusical           6.317775\nMystery           5.965148\nNews              7.196241\nReality-TV        6.346667\nRomance           6.129863\nSci-Fi            5.343036\nShort             7.260000\nSport             6.641292\nTalk-Show         5.000000\nThriller          5.626912\nWar               6.546371\nWestern           5.982070",
      "text/html": "<div>\n<style scoped>\n    .dataframe tbody tr th:only-of-type {\n        vertical-align: middle;\n    }\n\n    .dataframe tbody tr th {\n        vertical-align: top;\n    }\n\n    .dataframe thead th {\n        text-align: right;\n    }\n</style>\n<table border=\"1\" class=\"dataframe\">\n  <thead>\n    <tr style=\"text-align: right;\">\n      <th></th>\n      <th>averageRating</th>\n    </tr>\n    <tr>\n      <th>genre</th>\n      <th></th>\n    </tr>\n  </thead>\n  <tbody>\n    <tr>\n      <th>Action</th>\n      <td>5.708165</td>\n    </tr>\n    <tr>\n      <th>Adult</th>\n      <td>5.725158</td>\n    </tr>\n    <tr>\n      <th>Adventure</th>\n      <td>5.885921</td>\n    </tr>\n    <tr>\n      <th>Animation</th>\n      <td>6.432795</td>\n    </tr>\n    <tr>\n      <th>Biography</th>\n      <td>6.974517</td>\n    </tr>\n    <tr>\n      <th>Comedy</th>\n      <td>6.008559</td>\n    </tr>\n    <tr>\n      <th>Crime</th>\n      <td>6.065863</td>\n    </tr>\n    <tr>\n      <th>Documentary</th>\n      <td>7.210440</td>\n    </tr>\n    <tr>\n      <th>Drama</th>\n      <td>6.327951</td>\n    </tr>\n    <tr>\n      <th>Family</th>\n      <td>6.287336</td>\n    </tr>\n    <tr>\n      <th>Fantasy</th>\n      <td>5.977322</td>\n    </tr>\n    <tr>\n      <th>Film-Noir</th>\n      <td>6.636247</td>\n    </tr>\n    <tr>\n      <th>Game-Show</th>\n      <td>6.975000</td>\n    </tr>\n    <tr>\n      <th>History</th>\n      <td>6.881349</td>\n    </tr>\n    <tr>\n      <th>Horror</th>\n      <td>5.069616</td>\n    </tr>\n    <tr>\n      <th>Music</th>\n      <td>6.917638</td>\n    </tr>\n    <tr>\n      <th>Musical</th>\n      <td>6.317775</td>\n    </tr>\n    <tr>\n      <th>Mystery</th>\n      <td>5.965148</td>\n    </tr>\n    <tr>\n      <th>News</th>\n      <td>7.196241</td>\n    </tr>\n    <tr>\n      <th>Reality-TV</th>\n      <td>6.346667</td>\n    </tr>\n    <tr>\n      <th>Romance</th>\n      <td>6.129863</td>\n    </tr>\n    <tr>\n      <th>Sci-Fi</th>\n      <td>5.343036</td>\n    </tr>\n    <tr>\n      <th>Short</th>\n      <td>7.260000</td>\n    </tr>\n    <tr>\n      <th>Sport</th>\n      <td>6.641292</td>\n    </tr>\n    <tr>\n      <th>Talk-Show</th>\n      <td>5.000000</td>\n    </tr>\n    <tr>\n      <th>Thriller</th>\n      <td>5.626912</td>\n    </tr>\n    <tr>\n      <th>War</th>\n      <td>6.546371</td>\n    </tr>\n    <tr>\n      <th>Western</th>\n      <td>5.982070</td>\n    </tr>\n  </tbody>\n</table>\n</div>"
     },
     "metadata": {},
     "execution_count": 29
    }
   ],
   "source": [
    "moyenne_genre = moyenne_genre.groupby('genre').mean()\n",
    "moyenne_genre"
   ]
  },
  {
   "source": [
    "### Import en CSV du fichier"
   ],
   "cell_type": "markdown",
   "metadata": {}
  },
  {
   "cell_type": "code",
   "execution_count": 30,
   "metadata": {},
   "outputs": [],
   "source": [
    "moyenne_genre.to_csv('moyenne_genre.csv', index=False)"
   ]
  },
  {
   "cell_type": "code",
   "execution_count": null,
   "metadata": {},
   "outputs": [],
   "source": []
  }
 ]
}