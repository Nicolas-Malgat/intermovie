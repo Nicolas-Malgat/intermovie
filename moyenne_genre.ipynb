{
 "metadata": {
  "language_info": {
   "codemirror_mode": {
    "name": "ipython",
    "version": 3
   },
   "file_extension": ".py",
   "mimetype": "text/x-python",
   "name": "python",
   "nbconvert_exporter": "python",
   "pygments_lexer": "ipython3",
   "version": "3.7.6-final"
  },
  "orig_nbformat": 2,
  "kernelspec": {
   "name": "python3",
   "display_name": "Python 3"
  }
 },
 "nbformat": 4,
 "nbformat_minor": 2,
 "cells": [
  {
   "source": [
    "# Intermovie - projet 6 \n",
    "Utilisation de dataframes pour manipuler des données. Exportation en CSV pour chaque dataframe créé. "
   ],
   "cell_type": "markdown",
   "metadata": {}
  },
  {
   "source": [
    "## Import des librairies"
   ],
   "cell_type": "markdown",
   "metadata": {}
  },
  {
   "cell_type": "code",
   "execution_count": null,
   "metadata": {
    "tags": []
   },
   "outputs": [],
   "source": [
    "import pandas as pd\n",
    "\n",
    "%load_ext autoreload\n",
    "%autoreload 2"
   ]
  },
  {
   "source": [
    "## 2. Les notes moyennes des différents genres\n",
    "### Import des datas initiaux :"
   ],
   "cell_type": "markdown",
   "metadata": {}
  },
  {
   "cell_type": "code",
   "execution_count": null,
   "metadata": {
    "tags": []
   },
   "outputs": [],
   "source": [
    "title_basics = pd.read_csv(\"../movies_dataset/title.basics.tsv\",sep='\\t', index_col='tconst', usecols=['tconst', 'genres', 'titleType'])\n",
    "print('Title Basics imported.')\n",
    "\n",
    "title_ratings = pd.read_csv(\"../movies_dataset/title.ratings.tsv\",sep='\\t', index_col='tconst', usecols=['tconst', 'averageRating'])\n",
    "print('Title Ratings imported.')"
   ]
  },
  {
   "source": [
    "### Nettoyage du dataset :"
   ],
   "cell_type": "markdown",
   "metadata": {}
  },
  {
   "cell_type": "code",
   "execution_count": null,
   "metadata": {
    "tags": []
   },
   "outputs": [],
   "source": [
    "title_basics = title_basics.dropna()\n",
    "title_basics = title_basics[['genres']][title_basics.titleType.str.contains('movie|tvMovie', regex=True)]"
   ]
  },
  {
   "source": [
    "### Jointure des tables :"
   ],
   "cell_type": "markdown",
   "metadata": {}
  },
  {
   "cell_type": "code",
   "execution_count": 27,
   "metadata": {},
   "outputs": [],
   "source": [
    "# sauvegarde = title_basics.copy()\n",
    "title_basics = sauvegarde.copy()"
   ]
  },
  {
   "cell_type": "code",
   "execution_count": 28,
   "metadata": {
    "tags": []
   },
   "outputs": [],
   "source": [
    "title_basics = title_basics.merge(title_ratings, how='left', left_index=True, right_index=True)\n",
    "title_basics = title_basics.dropna()\n",
    "title_basics = title_basics[title_basics.genres != '\\\\N']"
   ]
  },
  {
   "cell_type": "code",
   "execution_count": 29,
   "metadata": {},
   "outputs": [],
   "source": [
    "moyenne_genre = pd.DataFrame(title_basics.genres.str.split(',').tolist(), index=title_basics.index).stack()\n",
    "moyenne_genre = moyenne_genre.reset_index(['tconst', 0])\n",
    "\n",
    "title_basics = title_basics.drop(columns=['genres'])\n",
    "\n",
    "moyenne_genre = moyenne_genre.set_index('tconst')\n",
    "moyenne_genre.columns = ['genre']\n",
    "\n",
    "moyenne_genre = moyenne_genre.merge(title_basics, how='left', left_index=True, right_index=True)\n",
    "moyenne_genre = moyenne_genre[moyenne_genre.genre != '\\\\N']"
   ]
  },
  {
   "cell_type": "code",
   "execution_count": 30,
   "metadata": {},
   "outputs": [],
   "source": [
    "moyenne_genre = moyenne_genre.groupby('genre').mean()"
   ]
  },
  {
   "source": [
    "### Import en CSV du fichier"
   ],
   "cell_type": "markdown",
   "metadata": {}
  },
  {
   "cell_type": "code",
   "execution_count": 31,
   "metadata": {},
   "outputs": [],
   "source": [
    "moyenne_genre = moyenne_genre.sort_values(by=['averageRating'], ascending=False)"
   ]
  },
  {
   "cell_type": "code",
   "execution_count": 32,
   "metadata": {},
   "outputs": [],
   "source": [
    "moyenne_genre.to_csv('moyenne_genre.csv', index=True)"
   ]
  },
  {
   "cell_type": "code",
   "execution_count": null,
   "metadata": {},
   "outputs": [],
   "source": []
  }
 ]
}