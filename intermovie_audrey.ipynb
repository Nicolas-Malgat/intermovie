{
 "metadata": {
  "language_info": {
   "codemirror_mode": {
    "name": "ipython",
    "version": 3
   },
   "file_extension": ".py",
   "mimetype": "text/x-python",
   "name": "python",
   "nbconvert_exporter": "python",
   "pygments_lexer": "ipython3",
   "version": "3.7.9-final"
  },
  "orig_nbformat": 2,
  "kernelspec": {
   "name": "python_defaultSpec_1600448075529",
   "display_name": "Python 3.7.9 64-bit ('Intermovie': conda)"
  }
 },
 "nbformat": 4,
 "nbformat_minor": 2,
 "cells": [
  {
   "source": [
    "# Intermovie - projet 6 \n",
    "Utilisation de dataframes pour manipuler des données. Exportation en CSV pour chaque dataframe créé. "
   ],
   "cell_type": "markdown",
   "metadata": {}
  },
  {
   "source": [
    "%load_ext autoreload\n",
    "%autoreload 2"
   ],
   "cell_type": "code",
   "metadata": {},
   "execution_count": null,
   "outputs": []
  },
  {
   "source": [
    "## 1. Sélection de la liste des acteurs par films"
   ],
   "cell_type": "markdown",
   "metadata": {}
  },
  {
   "cell_type": "code",
   "execution_count": 20,
   "metadata": {
    "tags": []
   },
   "outputs": [],
   "source": [
    "import pandas as pd \n",
    "import numpy as np\n",
    "import csv"
   ]
  },
  {
   "cell_type": "code",
   "execution_count": 21,
   "metadata": {},
   "outputs": [
    {
     "output_type": "execute_result",
     "data": {
      "text/plain": "      tconst  ordering     nconst         category                      job  \\\n0  tt0000001         1  nm1588970             self                       \\N   \n1  tt0000001         2  nm0005690         director                       \\N   \n2  tt0000001         3  nm0374658  cinematographer  director of photography   \n3  tt0000002         1  nm0721526         director                       \\N   \n4  tt0000002         2  nm1335271         composer                       \\N   \n\n    characters  \n0  [\"Herself\"]  \n1           \\N  \n2           \\N  \n3           \\N  \n4           \\N  ",
      "text/html": "<div>\n<style scoped>\n    .dataframe tbody tr th:only-of-type {\n        vertical-align: middle;\n    }\n\n    .dataframe tbody tr th {\n        vertical-align: top;\n    }\n\n    .dataframe thead th {\n        text-align: right;\n    }\n</style>\n<table border=\"1\" class=\"dataframe\">\n  <thead>\n    <tr style=\"text-align: right;\">\n      <th></th>\n      <th>tconst</th>\n      <th>ordering</th>\n      <th>nconst</th>\n      <th>category</th>\n      <th>job</th>\n      <th>characters</th>\n    </tr>\n  </thead>\n  <tbody>\n    <tr>\n      <th>0</th>\n      <td>tt0000001</td>\n      <td>1</td>\n      <td>nm1588970</td>\n      <td>self</td>\n      <td>\\N</td>\n      <td>[\"Herself\"]</td>\n    </tr>\n    <tr>\n      <th>1</th>\n      <td>tt0000001</td>\n      <td>2</td>\n      <td>nm0005690</td>\n      <td>director</td>\n      <td>\\N</td>\n      <td>\\N</td>\n    </tr>\n    <tr>\n      <th>2</th>\n      <td>tt0000001</td>\n      <td>3</td>\n      <td>nm0374658</td>\n      <td>cinematographer</td>\n      <td>director of photography</td>\n      <td>\\N</td>\n    </tr>\n    <tr>\n      <th>3</th>\n      <td>tt0000002</td>\n      <td>1</td>\n      <td>nm0721526</td>\n      <td>director</td>\n      <td>\\N</td>\n      <td>\\N</td>\n    </tr>\n    <tr>\n      <th>4</th>\n      <td>tt0000002</td>\n      <td>2</td>\n      <td>nm1335271</td>\n      <td>composer</td>\n      <td>\\N</td>\n      <td>\\N</td>\n    </tr>\n  </tbody>\n</table>\n</div>"
     },
     "metadata": {},
     "execution_count": 21
    }
   ],
   "source": [
    "dataframe_title_principals = pd.read_csv(\"../movies_dataset/title.principals.tsv\",sep='\\t')\n",
    "dataframe_title_principals.head()"
   ]
  },
  {
   "cell_type": "code",
   "execution_count": 26,
   "metadata": {
    "tags": []
   },
   "outputs": [
    {
     "output_type": "error",
     "ename": "NameError",
     "evalue": "name 'df_actors' is not defined",
     "traceback": [
      "\u001b[1;31m---------------------------------------------------------------------------\u001b[0m",
      "\u001b[1;31mNameError\u001b[0m                                 Traceback (most recent call last)",
      "\u001b[1;32m<ipython-input-26-7ffe4bbe8f39>\u001b[0m in \u001b[0;36m<module>\u001b[1;34m\u001b[0m\n\u001b[0;32m     10\u001b[0m \u001b[1;32mfor\u001b[0m \u001b[0mindex\u001b[0m\u001b[1;33m,\u001b[0m \u001b[0mrow\u001b[0m \u001b[1;32min\u001b[0m \u001b[0mdataframe_title_principals\u001b[0m\u001b[1;33m.\u001b[0m\u001b[0miterrows\u001b[0m\u001b[1;33m(\u001b[0m\u001b[1;33m)\u001b[0m\u001b[1;33m:\u001b[0m\u001b[1;33m\u001b[0m\u001b[1;33m\u001b[0m\u001b[0m\n\u001b[0;32m     11\u001b[0m     \u001b[1;32mif\u001b[0m \u001b[0mrow\u001b[0m\u001b[1;33m[\u001b[0m\u001b[1;34m'category'\u001b[0m\u001b[1;33m]\u001b[0m\u001b[1;33m==\u001b[0m\u001b[1;34m'actor'\u001b[0m \u001b[1;32mor\u001b[0m \u001b[0mrow\u001b[0m\u001b[1;33m[\u001b[0m\u001b[1;34m'category'\u001b[0m\u001b[1;33m]\u001b[0m\u001b[1;33m==\u001b[0m\u001b[1;34m'actress'\u001b[0m\u001b[1;33m:\u001b[0m\u001b[1;33m\u001b[0m\u001b[1;33m\u001b[0m\u001b[0m\n\u001b[1;32m---> 12\u001b[1;33m         \u001b[0mdf_actors\u001b[0m\u001b[1;33m.\u001b[0m\u001b[0mappend\u001b[0m\u001b[1;33m(\u001b[0m\u001b[0mrow\u001b[0m\u001b[1;33m)\u001b[0m\u001b[1;33m\u001b[0m\u001b[1;33m\u001b[0m\u001b[0m\n\u001b[0m\u001b[0;32m     13\u001b[0m \u001b[1;33m\u001b[0m\u001b[0m\n\u001b[0;32m     14\u001b[0m \u001b[0mdf_actor\u001b[0m\u001b[1;33m.\u001b[0m\u001b[0mgroupby\u001b[0m\u001b[1;33m(\u001b[0m\u001b[1;33m[\u001b[0m\u001b[1;34m'tconst'\u001b[0m\u001b[1;33m]\u001b[0m\u001b[1;33m)\u001b[0m\u001b[1;33m.\u001b[0m\u001b[0mhead\u001b[0m\u001b[1;33m(\u001b[0m\u001b[1;33m)\u001b[0m \u001b[1;31m#| Returns groupby object for values from multiple columns\u001b[0m\u001b[1;33m\u001b[0m\u001b[1;33m\u001b[0m\u001b[0m\n",
      "\u001b[1;31mNameError\u001b[0m: name 'df_actors' is not defined"
     ]
    }
   ],
   "source": [
    "# for data in dataframe_title_principals:\n",
    "#     print(data)\n",
    "    # if data[]=='category':\n",
    "        # print('oui')\n",
    "#         df_actors.append(data)\n",
    "\n",
    "# df_actors.head()\n",
    "\n",
    "\n",
    "for index, row in dataframe_title_principals.iterrows():\n",
    "    if row['category']=='actor' or row['category']=='actress':\n",
    "        df_actors.append(row)\n",
    "\n",
    "df_actor.groupby(['tconst']).head() #| Returns groupby object for values from multiple columns\n",
    "# df.groupby(col1)[col2] | Returns the mean of the values in col2, grouped by the values in col1 (mean can be replaced with almost any function from the statistics module)\n",
    "\n",
    "# df.to_csv(filename)\n",
    "\n",
    "    "
   ]
  },
  {
   "cell_type": "code",
   "execution_count": null,
   "metadata": {},
   "outputs": [],
   "source": []
  }
 ]
}