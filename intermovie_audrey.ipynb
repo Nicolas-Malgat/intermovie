{
 "metadata": {
  "language_info": {
   "codemirror_mode": {
    "name": "ipython",
    "version": 3
   },
   "file_extension": ".py",
   "mimetype": "text/x-python",
   "name": "python",
   "nbconvert_exporter": "python",
   "pygments_lexer": "ipython3",
   "version": "3.7.6-final"
  },
  "orig_nbformat": 2,
  "kernelspec": {
   "name": "python3",
   "display_name": "Python 3"
  }
 },
 "nbformat": 4,
 "nbformat_minor": 2,
 "cells": [
  {
   "source": [
    "# Intermovie - projet 6 \n",
    "Utilisation de dataframes pour manipuler des données. Exportation en CSV pour chaque dataframe créé. "
   ],
   "cell_type": "markdown",
   "metadata": {}
  },
  {
   "source": [
    "## Import des librairies"
   ],
   "cell_type": "markdown",
   "metadata": {}
  },
  {
   "cell_type": "code",
   "execution_count": 1,
   "metadata": {
    "tags": []
   },
   "outputs": [],
   "source": [
    "import pandas as pd \n",
    "import numpy as np\n",
    "import csv\n",
    "\n",
    "%load_ext autoreload\n",
    "%autoreload 2"
   ]
  },
  {
   "source": [
    "## 1. Sélection de la liste des acteurs par films\n",
    "### Import des datas initiaux :"
   ],
   "cell_type": "markdown",
   "metadata": {}
  },
  {
   "cell_type": "code",
   "execution_count": 2,
   "metadata": {
    "tags": []
   },
   "outputs": [
    {
     "output_type": "stream",
     "name": "stdout",
     "text": "Name basics imported.\nTitle Basics imported.\nTitle principals imported.\n"
    }
   ],
   "source": [
    "dataframe_name_basics = pd.read_csv(\"../movies_dataset/name.basics.tsv\",sep='\\t')\n",
    "print('Name basics imported.')\n",
    "\n",
    "dataframe_title_basics = pd.read_csv(\"../movies_dataset/title.basics.tsv\",sep='\\t')\n",
    "print('Title Basics imported.')\n",
    "\n",
    "dataframe_title_principals = pd.read_csv(\"../movies_dataset/title.principals.tsv\",sep='\\t')\n",
    "print('Title principals imported.')"
   ]
  },
  {
   "source": [
    "### Nettoyage du dataset :"
   ],
   "cell_type": "markdown",
   "metadata": {}
  },
  {
   "cell_type": "code",
   "execution_count": 10,
   "metadata": {},
   "outputs": [
    {
     "output_type": "execute_result",
     "data": {
      "text/plain": "       tconst     nconst\n11  tt0000005  nm0443482\n12  tt0000005  nm0653042\n16  tt0000007  nm0179163\n17  tt0000007  nm0183947\n21  tt0000008  nm0653028",
      "text/html": "<div>\n<style scoped>\n    .dataframe tbody tr th:only-of-type {\n        vertical-align: middle;\n    }\n\n    .dataframe tbody tr th {\n        vertical-align: top;\n    }\n\n    .dataframe thead th {\n        text-align: right;\n    }\n</style>\n<table border=\"1\" class=\"dataframe\">\n  <thead>\n    <tr style=\"text-align: right;\">\n      <th></th>\n      <th>tconst</th>\n      <th>nconst</th>\n    </tr>\n  </thead>\n  <tbody>\n    <tr>\n      <th>11</th>\n      <td>tt0000005</td>\n      <td>nm0443482</td>\n    </tr>\n    <tr>\n      <th>12</th>\n      <td>tt0000005</td>\n      <td>nm0653042</td>\n    </tr>\n    <tr>\n      <th>16</th>\n      <td>tt0000007</td>\n      <td>nm0179163</td>\n    </tr>\n    <tr>\n      <th>17</th>\n      <td>tt0000007</td>\n      <td>nm0183947</td>\n    </tr>\n    <tr>\n      <th>21</th>\n      <td>tt0000008</td>\n      <td>nm0653028</td>\n    </tr>\n  </tbody>\n</table>\n</div>"
     },
     "metadata": {},
     "execution_count": 10
    }
   ],
   "source": [
    "dataframe_title_principals = dataframe_title_principals.dropna()\n",
    "dataframe_title_principals = dataframe_title_principals[['tconst', 'nconst']][dataframe_title_principals['category'].str.contains(\"actor|actress\", regex=True)]"
   ]
  },
  {
   "cell_type": "code",
   "execution_count": null,
   "metadata": {},
   "outputs": [],
   "source": [
    "dataframe_title_basics = dataframe_title_basics.dropna()\n",
    "dataframe_title_basics = dataframe_title_basics[['tconst', 'primaryTitle']][dataframe_title_basics.titleType.str.contains('movie', regex=True)]"
   ]
  },
  {
   "cell_type": "code",
   "execution_count": 12,
   "metadata": {},
   "outputs": [
    {
     "output_type": "execute_result",
     "data": {
      "text/plain": "        tconst                   primaryTitle\n8    tt0000009                     Miss Jerry\n145  tt0000147  The Corbett-Fitzsimmons Fight\n332  tt0000335          Soldiers of the Cross\n499  tt0000502                       Bohemios\n571  tt0000574    The Story of the Kelly Gang",
      "text/html": "<div>\n<style scoped>\n    .dataframe tbody tr th:only-of-type {\n        vertical-align: middle;\n    }\n\n    .dataframe tbody tr th {\n        vertical-align: top;\n    }\n\n    .dataframe thead th {\n        text-align: right;\n    }\n</style>\n<table border=\"1\" class=\"dataframe\">\n  <thead>\n    <tr style=\"text-align: right;\">\n      <th></th>\n      <th>tconst</th>\n      <th>primaryTitle</th>\n    </tr>\n  </thead>\n  <tbody>\n    <tr>\n      <th>8</th>\n      <td>tt0000009</td>\n      <td>Miss Jerry</td>\n    </tr>\n    <tr>\n      <th>145</th>\n      <td>tt0000147</td>\n      <td>The Corbett-Fitzsimmons Fight</td>\n    </tr>\n    <tr>\n      <th>332</th>\n      <td>tt0000335</td>\n      <td>Soldiers of the Cross</td>\n    </tr>\n    <tr>\n      <th>499</th>\n      <td>tt0000502</td>\n      <td>Bohemios</td>\n    </tr>\n    <tr>\n      <th>571</th>\n      <td>tt0000574</td>\n      <td>The Story of the Kelly Gang</td>\n    </tr>\n  </tbody>\n</table>\n</div>"
     },
     "metadata": {},
     "execution_count": 12
    }
   ],
   "source": [
    "dataframe_name_basics = dataframe_name_basics.dropna()\n",
    "dataframe_name_basics = dataframe_name_basics[['nconst', 'primaryName']][dataframe_name_basics.primaryProfession.str.contains('actor|actress', regex=True)]"
   ]
  },
  {
   "source": [
    "### Jointure des tables :"
   ],
   "cell_type": "markdown",
   "metadata": {}
  },
  {
   "cell_type": "code",
   "execution_count": null,
   "metadata": {},
   "outputs": [],
   "source": [
    "dataframe_title_principals = dataframe_title_principals.join(dataframe_name_basics, on='tconst', how='left', sort=True)\n",
    "dataframe_title_principals.head()"
   ]
  }
 ]
}