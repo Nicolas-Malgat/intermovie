{
 "metadata": {
  "language_info": {
   "codemirror_mode": {
    "name": "ipython",
    "version": 3
   },
   "file_extension": ".py",
   "mimetype": "text/x-python",
   "name": "python",
   "nbconvert_exporter": "python",
   "pygments_lexer": "ipython3",
   "version": "3.7.6-final"
  },
  "orig_nbformat": 2,
  "kernelspec": {
   "name": "python3",
   "display_name": "Python 3"
  }
 },
 "nbformat": 4,
 "nbformat_minor": 2,
 "cells": [
  {
   "source": [
    "# Intermovie - projet 6 \n",
    "Utilisation de dataframes pour manipuler des données. Exportation en CSV pour chaque dataframe créé. "
   ],
   "cell_type": "markdown",
   "metadata": {}
  },
  {
   "source": [
    "## Import des librairies"
   ],
   "cell_type": "markdown",
   "metadata": {}
  },
  {
   "cell_type": "code",
   "execution_count": 1,
   "metadata": {
    "tags": []
   },
   "outputs": [],
   "source": [
    "import pandas as pd \n",
    "import numpy as np\n",
    "import csv\n",
    "\n",
    "%load_ext autoreload\n",
    "%autoreload 2"
   ]
  },
  {
   "source": [
    "## 1. Sélection de la liste des acteurs par films\n",
    "### Import des datas initiaux :"
   ],
   "cell_type": "markdown",
   "metadata": {}
  },
  {
   "cell_type": "code",
   "execution_count": 2,
   "metadata": {
    "tags": []
   },
   "outputs": [
    {
     "output_type": "stream",
     "name": "stdout",
     "text": "Name basics imported.\nTitle Basics imported.\nTitle principals imported.\n"
    }
   ],
   "source": [
    "dataframe_name_basics = pd.read_csv(\"../movies_dataset/name.basics.tsv\",sep='\\t')\n",
    "print('Name basics imported.')\n",
    "\n",
    "dataframe_title_basics = pd.read_csv(\"../movies_dataset/title.basics.tsv\",sep='\\t')\n",
    "print('Title Basics imported.')\n",
    "\n",
    "dataframe_title_principals = pd.read_csv(\"../movies_dataset/title.principals.tsv\",sep='\\t')\n",
    "print('Title principals imported.')"
   ]
  },
  {
   "source": [
    "### Nettoyage du dataset :"
   ],
   "cell_type": "markdown",
   "metadata": {}
  },
  {
   "cell_type": "code",
   "execution_count": 3,
   "metadata": {},
   "outputs": [],
   "source": [
    "dataframe_title_principals = dataframe_title_principals.dropna()\n",
    "dataframe_title_principals = dataframe_title_principals[['tconst', 'nconst']][dataframe_title_principals['category'].str.contains(\"actor|actress\", regex=True)]"
   ]
  },
  {
   "cell_type": "code",
   "execution_count": 4,
   "metadata": {},
   "outputs": [],
   "source": [
    "dataframe_title_basics = dataframe_title_basics.dropna()\n",
    "dataframe_title_basics = dataframe_title_basics[['tconst', 'primaryTitle']][dataframe_title_basics.titleType.str.contains('movie', regex=True)]"
   ]
  },
  {
   "cell_type": "code",
   "execution_count": 5,
   "metadata": {},
   "outputs": [],
   "source": [
    "dataframe_name_basics = dataframe_name_basics.dropna()\n",
    "dataframe_name_basics = dataframe_name_basics[['nconst', 'primaryName']][dataframe_name_basics.primaryProfession.str.contains('actor|actress', regex=True)]"
   ]
  },
  {
   "source": [
    "### Jointure des tables :"
   ],
   "cell_type": "markdown",
   "metadata": {}
  },
  {
   "cell_type": "code",
   "execution_count": 6,
   "metadata": {},
   "outputs": [],
   "source": [
    "dataframe_title_principals = dataframe_title_principals.merge(dataframe_name_basics, on=['nconst'], how='left')"
   ]
  },
  {
   "cell_type": "code",
   "execution_count": 7,
   "metadata": {},
   "outputs": [],
   "source": [
    "dataframe_title_principals = dataframe_title_principals.merge(dataframe_title_basics, on=['tconst'], how='left')"
   ]
  },
  {
   "cell_type": "code",
   "execution_count": 10,
   "metadata": {},
   "outputs": [
    {
     "output_type": "execute_result",
     "data": {
      "text/plain": "            primaryTitle        primaryName\n0             Miss Jerry    Blanche Bayliss\n1             Miss Jerry  William Courtenay\n2             Miss Jerry     Chauncey Depew\n3  Soldiers of the Cross       Beatrice Day\n4  Soldiers of the Cross      Harold Graham",
      "text/html": "<div>\n<style scoped>\n    .dataframe tbody tr th:only-of-type {\n        vertical-align: middle;\n    }\n\n    .dataframe tbody tr th {\n        vertical-align: top;\n    }\n\n    .dataframe thead th {\n        text-align: right;\n    }\n</style>\n<table border=\"1\" class=\"dataframe\">\n  <thead>\n    <tr style=\"text-align: right;\">\n      <th></th>\n      <th>primaryTitle</th>\n      <th>primaryName</th>\n    </tr>\n  </thead>\n  <tbody>\n    <tr>\n      <th>0</th>\n      <td>Miss Jerry</td>\n      <td>Blanche Bayliss</td>\n    </tr>\n    <tr>\n      <th>1</th>\n      <td>Miss Jerry</td>\n      <td>William Courtenay</td>\n    </tr>\n    <tr>\n      <th>2</th>\n      <td>Miss Jerry</td>\n      <td>Chauncey Depew</td>\n    </tr>\n    <tr>\n      <th>3</th>\n      <td>Soldiers of the Cross</td>\n      <td>Beatrice Day</td>\n    </tr>\n    <tr>\n      <th>4</th>\n      <td>Soldiers of the Cross</td>\n      <td>Harold Graham</td>\n    </tr>\n  </tbody>\n</table>\n</div>"
     },
     "metadata": {},
     "execution_count": 10
    }
   ],
   "source": [
    "dataframe_title_principals = dataframe_title_principals.dropna()\n",
    "dataframe_title_principals = dataframe_title_principals[['primaryTitle', 'primaryName']].reset_index(drop=True)\n",
    "dataframe_title_principals.head()"
   ]
  },
  {
   "source": [
    "### Import en CSV du fichier"
   ],
   "cell_type": "markdown",
   "metadata": {}
  },
  {
   "cell_type": "code",
   "execution_count": 11,
   "metadata": {},
   "outputs": [],
   "source": [
    "dataframe_title_principals.to_csv('titles_actors.csv')"
   ]
  },
  {
   "cell_type": "code",
   "execution_count": null,
   "metadata": {},
   "outputs": [],
   "source": []
  }
 ]
}