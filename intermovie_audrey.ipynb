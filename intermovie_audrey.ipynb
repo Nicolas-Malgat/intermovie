{
 "metadata": {
  "language_info": {
   "codemirror_mode": {
    "name": "ipython",
    "version": 3
   },
   "file_extension": ".py",
   "mimetype": "text/x-python",
   "name": "python",
   "nbconvert_exporter": "python",
   "pygments_lexer": "ipython3",
   "version": "3.7.9-final"
  },
  "orig_nbformat": 2,
  "kernelspec": {
   "name": "python_defaultSpec_1600689212577",
   "display_name": "Python 3.7.9 64-bit ('Intermovie': conda)"
  }
 },
 "nbformat": 4,
 "nbformat_minor": 2,
 "cells": [
  {
   "source": [
    "# Intermovie - projet 6 \n",
    "Utilisation de dataframes pour manipuler des données. Exportation en CSV pour chaque dataframe créé. "
   ],
   "cell_type": "markdown",
   "metadata": {}
  },
  {
   "source": [
    "## Import des librairies et chargement des dataframes initiaux"
   ],
   "cell_type": "markdown",
   "metadata": {}
  },
  {
   "source": [
    "%load_ext autoreload\n",
    "%autoreload 2"
   ],
   "cell_type": "code",
   "metadata": {},
   "execution_count": null,
   "outputs": []
  },
  {
   "cell_type": "code",
   "execution_count": 3,
   "metadata": {
    "tags": []
   },
   "outputs": [],
   "source": [
    "import pandas as pd \n",
    "import numpy as np\n",
    "import csv"
   ]
  },
  {
   "cell_type": "code",
   "execution_count": 4,
   "metadata": {
    "tags": []
   },
   "outputs": [
    {
     "output_type": "stream",
     "name": "stdout",
     "text": "Name basics imported.\nTitle akas imported.\nTitle Basics imported.\nTitle principals imported.\nTitle ratings imported.\n"
    }
   ],
   "source": [
    "dataframe_name_basics = pd.read_csv(\"../movies_dataset/name.basics.tsv\",sep='\\t')\n",
    "print('Name basics imported.')\n",
    "\n",
    "dataframe_title_akas = pd.read_csv(\"../movies_dataset/title.akas.tsv\",sep='\\t')\n",
    "print('Title akas imported.')\n",
    "\n",
    "dataframe_title_basics = pd.read_csv(\"../movies_dataset/title.basics.tsv\",sep='\\t')\n",
    "print('Title Basics imported.')\n",
    "\n",
    "dataframe_title_principals = pd.read_csv(\"../movies_dataset/title.principals.tsv\",sep='\\t')\n",
    "print('Title principals imported.')\n",
    "\n",
    "dataframe_title_ratings = pd.read_csv(\"../movies_dataset/title.ratings.tsv\",sep='\\t')\n",
    "print('Title ratings imported.')\n",
    "\n",
    "# dataframe_title_principals.head()"
   ]
  },
  {
   "source": [
    "## 1. Sélection de la liste des acteurs par films"
   ],
   "cell_type": "markdown",
   "metadata": {}
  },
  {
   "cell_type": "code",
   "execution_count": 7,
   "metadata": {
    "tags": []
   },
   "outputs": [
    {
     "output_type": "stream",
     "name": "stdout",
     "text": "0 0 0 0 0 0 0 0 0 0 0 1 1 0 0 0 1 1 0 0 0 1 0 0 1 1 1 0 0 1 0 0 0 0 0 0 0 0 0 0 0 0 1 1 0 0 0 0 0 1 1 0 0 1 0 0 0 0 0 0 0 0 0 0 0 0 1 1 1 1 0 0 0 0 0 0 0 0 0 0 0 0 1 0 0 0 0 1 0 0 0 0 0 0 0 0 0 0 0 0 0 0 0 0 0 0 0 0 0 0 0 0 0 0 0 0 0 0 0 0 0 0 0 0 0 1 0 0 0 1 1 1 1 0 0 0 1 0 0 0 0 0 1 1 1 0 0 0 0 00 0 0 0 0 0 0 0 0 0 0 0 0 0 0 1 1 1 0 0 0 0 0 0 0 0 0 0 0 0 0 0 0 0 0 0 1 0 0 0 1 0 0 0 1 0 0 0 1 0 0 0 1 0 0 0 1 0 0 0 0 0 0 0 0 0 0 1 1 1 0 0 0 0 0 0 0 0 0 0 0 1 1 1 1 1 0 0 0 0 0 1 0 0 0 1 0 0 0 0 0 0 0 0 0 0 0 0 0 0 0 0 1 0 1 0 0 0 0 0 0 0 0 0 0 0 0 0 0 1 1 1 1 0 1 0 0 0 0 0 0 0 1 1 0 0 1 1 0 0 0 0 1 0 0 0 0 1 0 0 0 0 0 0 0 0 0 0 0 1 1 0 0 0 0 0 0 0 0 0 0 0 0 0 0 0 0 0 0 0 0 0 0 0 0 0 0 1 1 1 0 0 1 0 1 0 0 0 0 0 1 0 0 0 0 0 0 0 0 0 0 0 0 0 0 1 1 1 1 0 0 1 0 0 0 0 1 1 1 1 0 0 0 0 0 0 0 0 1 0 0 0 1 1 1 1 1 0 0 0 0 0 1 1 0 0 0 0 0 0 0 0 0 0 0 0 0 1 0 1 1 0 0 0 0 0 0 0 0 1 1 1 0 0 0 0 0 0 1 0 1 0 1 0 0 0 0 0 0 0 0 0 0 0 0 0 0 0 0 0 1 0 0 0 0 1 0 0 0 0 0 1 0 1 0 1 1 1 0 0 0 1 0 1 1 0 1 1 1 1"
    },
    {
     "output_type": "execute_result",
     "data": {
      "text/plain": "         movie      actor category\n0    tt0000005  nm0443482    actor\n1    tt0000005  nm0653042    actor\n2    tt0000007  nm0179163    actor\n3    tt0000007  nm0183947    actor\n4    tt0000008  nm0653028    actor\n..         ...        ...      ...\n104  tt0000308  nm2940072    actor\n105  tt0000309  nm0164281  actress\n106  tt0000309  nm0378408    actor\n107  tt0000310  nm0335788    actor\n108  tt0000310  nm0151209  actress\n\n[109 rows x 3 columns]",
      "text/html": "<div>\n<style scoped>\n    .dataframe tbody tr th:only-of-type {\n        vertical-align: middle;\n    }\n\n    .dataframe tbody tr th {\n        vertical-align: top;\n    }\n\n    .dataframe thead th {\n        text-align: right;\n    }\n</style>\n<table border=\"1\" class=\"dataframe\">\n  <thead>\n    <tr style=\"text-align: right;\">\n      <th></th>\n      <th>movie</th>\n      <th>actor</th>\n      <th>category</th>\n    </tr>\n  </thead>\n  <tbody>\n    <tr>\n      <th>0</th>\n      <td>tt0000005</td>\n      <td>nm0443482</td>\n      <td>actor</td>\n    </tr>\n    <tr>\n      <th>1</th>\n      <td>tt0000005</td>\n      <td>nm0653042</td>\n      <td>actor</td>\n    </tr>\n    <tr>\n      <th>2</th>\n      <td>tt0000007</td>\n      <td>nm0179163</td>\n      <td>actor</td>\n    </tr>\n    <tr>\n      <th>3</th>\n      <td>tt0000007</td>\n      <td>nm0183947</td>\n      <td>actor</td>\n    </tr>\n    <tr>\n      <th>4</th>\n      <td>tt0000008</td>\n      <td>nm0653028</td>\n      <td>actor</td>\n    </tr>\n    <tr>\n      <th>...</th>\n      <td>...</td>\n      <td>...</td>\n      <td>...</td>\n    </tr>\n    <tr>\n      <th>104</th>\n      <td>tt0000308</td>\n      <td>nm2940072</td>\n      <td>actor</td>\n    </tr>\n    <tr>\n      <th>105</th>\n      <td>tt0000309</td>\n      <td>nm0164281</td>\n      <td>actress</td>\n    </tr>\n    <tr>\n      <th>106</th>\n      <td>tt0000309</td>\n      <td>nm0378408</td>\n      <td>actor</td>\n    </tr>\n    <tr>\n      <th>107</th>\n      <td>tt0000310</td>\n      <td>nm0335788</td>\n      <td>actor</td>\n    </tr>\n    <tr>\n      <th>108</th>\n      <td>tt0000310</td>\n      <td>nm0151209</td>\n      <td>actress</td>\n    </tr>\n  </tbody>\n</table>\n<p>109 rows × 3 columns</p>\n</div>"
     },
     "metadata": {},
     "execution_count": 7
    }
   ],
   "source": [
    "column_names = [\"movie\", \"actor\", \"category\"]\n",
    "df_actors = pd.DataFrame(columns = column_names)\n",
    "\n",
    "for index, row in dataframe_title_principals[:500].iterrows():\n",
    "    if row['category']=='actor' or row['category']=='actress':\n",
    "        df_actors = df_actors.append({'movie': row['tconst'], 'actor': row['nconst'], 'category': row['category']}, ignore_index=True)\n",
    "\n",
    "df_actors.groupby(['movie']).head() #| Returns groupby object for values from multiple columns\n",
    "\n",
    "# df.to_csv(filename)\n"
   ]
  },
  {
   "cell_type": "code",
   "execution_count": null,
   "metadata": {},
   "outputs": [],
   "source": []
  }
 ]
}