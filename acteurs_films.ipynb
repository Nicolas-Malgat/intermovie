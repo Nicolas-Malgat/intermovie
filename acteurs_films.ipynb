{
 "metadata": {
  "language_info": {
   "codemirror_mode": {
    "name": "ipython",
    "version": 3
   },
   "file_extension": ".py",
   "mimetype": "text/x-python",
   "name": "python",
   "nbconvert_exporter": "python",
   "pygments_lexer": "ipython3",
   "version": "3.7.6-final"
  },
  "orig_nbformat": 2,
  "kernelspec": {
   "name": "python3",
   "display_name": "Python 3"
  }
 },
 "nbformat": 4,
 "nbformat_minor": 2,
 "cells": [
  {
   "source": [
    "# Intermovie - projet 6 \n",
    "Utilisation de dataframes pour manipuler des données. Exportation en CSV pour chaque dataframe créé. "
   ],
   "cell_type": "markdown",
   "metadata": {}
  },
  {
   "source": [
    "## Import des librairies"
   ],
   "cell_type": "markdown",
   "metadata": {}
  },
  {
   "cell_type": "code",
   "execution_count": 2,
   "metadata": {
    "tags": []
   },
   "outputs": [],
   "source": [
    "import pandas as pd \n",
    "import numpy as np\n",
    "import csv\n",
    "from my_timer import MyTimer\n",
    "\n",
    "%load_ext autoreload\n",
    "%autoreload 2"
   ]
  },
  {
   "source": [
    "## 1. Sélection de la liste des acteurs par films\n",
    "### Import des datas initiaux :"
   ],
   "cell_type": "markdown",
   "metadata": {}
  },
  {
   "cell_type": "code",
   "execution_count": 3,
   "metadata": {
    "tags": []
   },
   "outputs": [
    {
     "output_type": "stream",
     "name": "stdout",
     "text": "Name basics imported.\nTitle Basics imported.\nTitle principals imported.\nChargement des csv\nElapsed time: 273.3746 seconds\n"
    }
   ],
   "source": [
    "timer = MyTimer()\n",
    "timer.start()\n",
    "\n",
    "dataframe_name_basics = pd.read_csv(\"../movies_dataset/name.basics.tsv\",sep='\\t')\n",
    "print('Name basics imported.')\n",
    "\n",
    "dataframe_title_basics = pd.read_csv(\"../movies_dataset/title.basics.tsv\",sep='\\t')\n",
    "print('Title Basics imported.')\n",
    "\n",
    "dataframe_title_principals = pd.read_csv(\"../movies_dataset/title.principals.tsv\",sep='\\t')\n",
    "print('Title principals imported.')\n",
    "\n",
    "timer.stop(\"Chargement des csv\")"
   ]
  },
  {
   "source": [
    "### Nettoyage du dataset :"
   ],
   "cell_type": "markdown",
   "metadata": {}
  },
  {
   "cell_type": "code",
   "execution_count": 8,
   "metadata": {
    "tags": []
   },
   "outputs": [
    {
     "output_type": "stream",
     "name": "stdout",
     "text": "Elapsed time: 111.6602 seconds\nNettoyage des datasets\nElapsed time: 414.4492 seconds\n"
    }
   ],
   "source": [
    "timer.stop()\n",
    "timer.start()\n",
    "\n",
    "dataframe_title_principals = dataframe_title_principals.dropna()\n",
    "dataframe_title_principals = dataframe_title_principals[['tconst', 'nconst']][dataframe_title_principals['category'].str.contains(\"actor|actress\", regex=True)]\n",
    "\n",
    "dataframe_title_basics = dataframe_title_basics.dropna()\n",
    "dataframe_title_basics = dataframe_title_basics[['tconst', 'primaryTitle']][dataframe_title_basics.titleType.str.contains('movie|tvMovie\t', regex=True)]\n",
    "\n",
    "dataframe_name_basics = dataframe_name_basics.dropna()\n",
    "dataframe_name_basics = dataframe_name_basics[['nconst', 'primaryName']][dataframe_name_basics.primaryProfession.str.contains('actor|actress', regex=True)]\n",
    "\n",
    "timer.stop(\"Nettoyage des datasets\")"
   ]
  },
  {
   "source": [
    "### Jointure des tables :"
   ],
   "cell_type": "markdown",
   "metadata": {}
  },
  {
   "cell_type": "code",
   "execution_count": 9,
   "metadata": {
    "tags": []
   },
   "outputs": [
    {
     "output_type": "stream",
     "name": "stdout",
     "text": "Jointure des datasets\nElapsed time: 95.6791 seconds\n"
    }
   ],
   "source": [
    "timer.start()\n",
    "\n",
    "dataframe_title_principals = dataframe_title_principals.merge(dataframe_name_basics, on=['nconst'], how='left')\n",
    "\n",
    "dataframe_title_principals = dataframe_title_principals.merge(dataframe_title_basics, on=['tconst'], how='left')\n",
    "\n",
    "dataframe_title_principals = dataframe_title_principals.dropna()\n",
    "dataframe_title_principals = dataframe_title_principals[['primaryTitle', 'primaryName']].reset_index(drop=True)\n",
    "dataframe_title_principals.head()\n",
    "\n",
    "timer.stop(\"Jointure des datasets\")"
   ]
  },
  {
   "source": [
    "### Import en CSV du fichier"
   ],
   "cell_type": "markdown",
   "metadata": {}
  },
  {
   "cell_type": "code",
   "execution_count": 11,
   "metadata": {},
   "outputs": [],
   "source": [
    "dataframe_title_principals.to_csv('titles_actors.csv')"
   ]
  },
  {
   "cell_type": "code",
   "execution_count": null,
   "metadata": {},
   "outputs": [],
   "source": []
  }
 ]
}