{
 "metadata": {
  "language_info": {
   "codemirror_mode": {
    "name": "ipython",
    "version": 3
   },
   "file_extension": ".py",
   "mimetype": "text/x-python",
   "name": "python",
   "nbconvert_exporter": "python",
   "pygments_lexer": "ipython3",
   "version": "3.7.6-final"
  },
  "orig_nbformat": 2,
  "kernelspec": {
   "name": "python_defaultSpec_1600858718456",
   "display_name": "Python 3.7.6 64-bit ('base': conda)"
  }
 },
 "nbformat": 4,
 "nbformat_minor": 2,
 "cells": [
  {
   "source": [
    "# Intermovie - projet 6 \n",
    "Utilisation de dataframes pour manipuler des données. Exportation en CSV pour chaque dataframe créé. \n"
   ],
   "cell_type": "markdown",
   "metadata": {}
  },
  {
   "source": [
    "## Import des librairies"
   ],
   "cell_type": "markdown",
   "metadata": {}
  },
  {
   "cell_type": "code",
   "execution_count": 1,
   "metadata": {},
   "outputs": [],
   "source": [
    "import pandas as pd\n",
    "\n",
    "from my_timer import MyTimer\n",
    "timer = MyTimer()\n",
    "\n",
    "%load_ext autoreload\n",
    "%autoreload 2"
   ]
  },
  {
   "source": [
    "## Import et nettoyage des datasets"
   ],
   "cell_type": "markdown",
   "metadata": {}
  },
  {
   "cell_type": "code",
   "execution_count": 2,
   "metadata": {
    "tags": []
   },
   "outputs": [
    {
     "output_type": "stream",
     "name": "stdout",
     "text": "Chargement de title.principals.tsv :\nElapsed time: 126.7694 seconds\nChargement de title.ratings.tsv :\nElapsed time: 2.6781 seconds\nChargement de title.basics.tsv :\nElapsed time: 56.6957 seconds\nChargement title.akas.tsv :\nElapsed time: 85.5416 seconds\nChargement name.basics.tsv :\nElapsed time: 84.4543 seconds\n"
    }
   ],
   "source": [
    "timer.start()\n",
    "title_principals = pd.read_csv(\"../movies_dataset/title.principals.tsv\", sep='\\t', index_col='tconst', usecols=['nconst', 'tconst', 'category'])\n",
    "timer.stop(\"Chargement de title.principals.tsv :\")\n",
    "\n",
    "timer.start()\n",
    "title_ratings = pd.read_csv(\"../movies_dataset/title.ratings.tsv\", sep='\\t', index_col='tconst', usecols=['tconst', 'averageRating'])\n",
    "timer.stop(\"Chargement de title.ratings.tsv :\")\n",
    "\n",
    "timer.start()\n",
    "title_basics = pd.read_csv(\"../movies_dataset/title.basics.tsv\", sep='\\t', index_col='tconst', usecols=['tconst', 'titleType', 'primaryTitle', 'originalTitle', 'genres'])\n",
    "timer.stop(\"Chargement de title.basics.tsv :\")\n",
    "\n",
    "timer.start()\n",
    "title_akas = pd.read_csv(\"../movies_dataset/title.akas.tsv\", sep='\\t', index_col='titleId', usecols=['titleId', 'region'])\n",
    "timer.stop(\"Chargement title.akas.tsv :\")\n",
    "\n",
    "timer.start()\n",
    "name_basics = pd.read_csv(\"../movies_dataset/name.basics.tsv\", sep='\\t', index_col='nconst', usecols=['nconst', 'primaryName', 'primaryProfession'])\n",
    "timer.stop(\"Chargement name.basics.tsv :\")\n"
   ]
  },
  {
   "cell_type": "code",
   "execution_count": 10,
   "metadata": {},
   "outputs": [],
   "source": [
    "title_principals = title_principals.dropna()\n",
    "title_principals = title_principals[['nconst']][title_principals['category'].str.contains(\"actor|actress\", regex=True)]\n",
    "\n",
    "title_ratings = title_ratings.dropna()\n",
    "title_ratings = title_ratings[['averageRating']]\n",
    "\n",
    "title_basics = title_basics[title_basics.genres != '\\\\N'].dropna()\n",
    "title_basics = title_basics[title_basics.titleType.str.contains('movie|tvMovie', regex=True)]\n",
    "\n",
    "title_akas = title_akas.dropna()\n",
    "title_akas = title_akas[title_akas['region'].str.contains('FR')]\n",
    "title_akas = title_akas.drop(columns=['region'])\n",
    "title_akas = pd.DataFrame(index=title_akas.index.drop_duplicates())\n",
    "\n",
    "name_basics = name_basics.dropna()\n",
    "name_basics = name_basics[['primaryName']][name_basics.primaryProfession.str.contains('actor|actress', regex=True)]\n"
   ]
  },
  {
   "source": [
    "## 1. Sélection de la liste des acteurs par films"
   ],
   "cell_type": "markdown",
   "metadata": {}
  },
  {
   "cell_type": "code",
   "execution_count": 5,
   "metadata": {},
   "outputs": [],
   "source": [
    "actors_movies = title_principals.merge(name_basics, right_index=True, left_on=['nconst'], how='left')\n",
    "actors_movies = actors_movies.merge(title_basics[['primaryTitle']], right_index=True, left_on=['tconst'], how='left')\n",
    "\n",
    "actors_movies = actors_movies.dropna()\n",
    "actors_movies = actors_movies[['primaryTitle', 'primaryName']]\n",
    "actors_movies = actors_movies.groupby('primaryTitle').agg({'primaryName': ', '.join})\n",
    "\n",
    "# Export en CSV\n",
    "actors_movies.to_csv('actors_movies.csv')"
   ]
  },
  {
   "source": [
    "## 2. La liste des films Américains (en gardant leur nom en français) et leur note moyenne"
   ],
   "cell_type": "markdown",
   "metadata": {}
  },
  {
   "cell_type": "code",
   "execution_count": 14,
   "metadata": {},
   "outputs": [],
   "source": [
    "american_movies = title_akas.merge(title_basics[['originalTitle']], how='left', left_index=True, right_index=True)\n",
    "american_movies = american_movies.dropna()\n",
    "\n",
    "american_movies = american_movies.merge(title_ratings, how='left', left_index=True, right_index=True)\n",
    "american_movies = american_movies.dropna()\n",
    "\n",
    "# Export en CSV :\n",
    "american_movies.to_csv('american_movies.csv', index=False)\n"
   ]
  },
  {
   "source": [
    "## 3. La note moyenne des différents genres"
   ],
   "cell_type": "markdown",
   "metadata": {}
  },
  {
   "cell_type": "code",
   "execution_count": 27,
   "metadata": {},
   "outputs": [],
   "source": [
    "mean_genre = title_basics[['genres']].merge(title_ratings, how='left', on=\"tconst\")\n",
    "\n",
    "mean_genre = pd.DataFrame(title_basics.genres.str.split(',').tolist()).stack()\n",
    "temp = title_basics.drop(columns=['genres'])\n",
    "\n",
    "mean_genre = mean_genre.reset_index([0])\n",
    "mean_genre.columns = ['tconst', 'genre']\n",
    "\n",
    "mean_genre = mean_genre.merge(temp, how='left', right_index=True, left_index=True)\n",
    "mean_genre = mean_genre[mean_genre.genre != '\\\\N']\n",
    "\n",
    "mean_genre = mean_genre.groupby('genre').mean()\n",
    "\n",
    "mean_genre = mean_genre.sort_values(by=['averageRating'], ascending=False)\n",
    "\n",
    "\n",
    "\n",
    "# temp = pd.DataFrame(title_basics.genres.str.split(',').tolist()).stack()\n",
    "# temp = temp.drop(columns=['genres'])\n",
    "\n",
    "# mean_genre = mean_genre.reset_index([0, 'tconst'])\n",
    "# mean_genre.columns = ['tconst', 'genre']\n",
    "\n",
    "# mean_genre = mean_genre.merge(temp, how='left', on=['tconst'])\n",
    "\n",
    "# mean_genre = mean_genre.groupby('genre').mean()\n",
    "\n",
    "# moyenne_genre = mean_genre.sort_values(by=['averageRating'], ascending=False)\n",
    "\n",
    "# Export en CSV :\n",
    "mean_genre.to_csv('mean_genre.csv')\n"
   ]
  },
  {
   "source": [
    "## 4. La note moyenne de chaque acteur par rapport aux films dans lesquels il apparaît"
   ],
   "cell_type": "markdown",
   "metadata": {}
  },
  {
   "cell_type": "code",
   "execution_count": 4,
   "metadata": {},
   "outputs": [],
   "source": [
    "actors_ranking = title_principals[['nconst']].merge(title_basics[['titleType']], left_index=True, right_index=True, how='left').drop(columns='titleType').dropna()\n",
    "actors_ranking = actors_ranking.merge(name_basics, left_on='nconst', right_index=True, how='left').dropna()\n",
    "actors_ranking = actors_ranking.merge(title_ratings, left_index=True, right_on=['tconst'], how='left')[['averageRating', 'primaryName']].dropna()\n",
    "actors_ranking = actors_ranking.groupby('primaryName').agg({'averageRating': 'mean'})\n",
    "\n",
    "# Export en CSV :\n",
    "actors_ranking.to_csv('rating_actors.csv')"
   ]
  },
  {
   "cell_type": "code",
   "execution_count": null,
   "metadata": {},
   "outputs": [],
   "source": []
  }
 ]
}