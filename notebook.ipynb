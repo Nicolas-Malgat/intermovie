{
 "metadata": {
  "language_info": {
   "codemirror_mode": {
    "name": "ipython",
    "version": 3
   },
   "file_extension": ".py",
   "mimetype": "text/x-python",
   "name": "python",
   "nbconvert_exporter": "python",
   "pygments_lexer": "ipython3",
   "version": "3.7.6-final"
  },
  "orig_nbformat": 2,
  "kernelspec": {
   "name": "Python 3.7.6 64-bit ('base')",
   "display_name": "Python 3.7.6 64-bit ('base')",
   "metadata": {
    "interpreter": {
     "hash": "b57b0ba709768a7bbbc5b5f9f052a7cbe42e1ac711dd327dca942e98c95c92b1"
    }
   }
  }
 },
 "nbformat": 4,
 "nbformat_minor": 2,
 "cells": [
  {
   "source": [
    "# Intermovie - projet 6 \n",
    "Utilisation de dataframes pour manipuler des données. Exportation en CSV pour chaque dataframe créé. \n"
   ],
   "cell_type": "markdown",
   "metadata": {}
  },
  {
   "source": [
    "## Import des librairies"
   ],
   "cell_type": "markdown",
   "metadata": {}
  },
  {
   "cell_type": "code",
   "execution_count": 3,
   "metadata": {
    "tags": []
   },
   "outputs": [
    {
     "output_type": "stream",
     "name": "stdout",
     "text": "The autoreload extension is already loaded. To reload it, use:\n  %reload_ext autoreload\n"
    }
   ],
   "source": [
    "import pandas as pd\n",
    "\n",
    "from my_timer import MyTimer\n",
    "timer = MyTimer()\n",
    "\n",
    "%load_ext autoreload\n",
    "%autoreload 2"
   ]
  },
  {
   "source": [
    "## Import et nettoyage des datasets"
   ],
   "cell_type": "markdown",
   "metadata": {}
  },
  {
   "cell_type": "code",
   "execution_count": 4,
   "metadata": {
    "tags": []
   },
   "outputs": [
    {
     "output_type": "stream",
     "name": "stdout",
     "text": "Chargement de title.principals.tsv :\nElapsed time: 77.3380 seconds\nChargement de title.ratings.tsv :\nElapsed time: 2.0967 seconds\nChargement de title.basics.tsv :\nElapsed time: 58.4367 seconds\nChargement title.akas.tsv :\nElapsed time: 26.3381 seconds\nChargement name.basics.tsv :\nElapsed time: 31.9359 seconds\n"
    }
   ],
   "source": [
    "timer.start()\n",
    "title_principals = pd.read_csv(\"../movies_dataset/title.principals.tsv\", sep='\\t', index_col='tconst', usecols=['nconst', 'tconst', 'category'], encoding='utf-8')\n",
    "timer.stop(\"Chargement de title.principals.tsv :\")\n",
    "\n",
    "timer.start()\n",
    "title_ratings = pd.read_csv(\"../movies_dataset/title.ratings.tsv\", sep='\\t', index_col='tconst', usecols=['tconst', 'averageRating'], encoding='utf-8')\n",
    "timer.stop(\"Chargement de title.ratings.tsv :\")\n",
    "\n",
    "timer.start()\n",
    "title_basics = pd.read_csv(\"../movies_dataset/title.basics.tsv\", sep='\\t', index_col='tconst', usecols=['tconst', 'titleType', 'primaryTitle', 'originalTitle', 'genres'], encoding='utf-8')\n",
    "timer.stop(\"Chargement de title.basics.tsv :\")\n",
    "\n",
    "timer.start()\n",
    "title_akas = pd.read_csv(\"../movies_dataset/title.akas.tsv\", sep='\\t', index_col='titleId', usecols=['titleId', 'region'], encoding='utf-8')\n",
    "timer.stop(\"Chargement title.akas.tsv :\")\n",
    "\n",
    "timer.start()\n",
    "name_basics = pd.read_csv(\"../movies_dataset/name.basics.tsv\", sep='\\t', index_col='nconst', usecols=['nconst', 'primaryName', 'primaryProfession'], encoding='utf-8')\n",
    "timer.stop(\"Chargement name.basics.tsv :\")\n"
   ]
  },
  {
   "cell_type": "code",
   "execution_count": 5,
   "metadata": {},
   "outputs": [],
   "source": [
    "title_principals = title_principals.dropna()\n",
    "title_principals = title_principals[['nconst']][title_principals['category'].str.contains(\"actor|actress\", regex=True)]\n",
    "\n",
    "title_ratings = title_ratings.dropna()\n",
    "title_ratings = title_ratings[['averageRating']]\n",
    "\n",
    "title_basics = title_basics[title_basics.genres != '\\\\N'].dropna()\n",
    "title_basics = title_basics[title_basics.titleType.str.contains('movie|tvMovie', regex=True)]\n",
    "\n",
    "title_akas = title_akas.dropna()\n",
    "title_akas = title_akas[title_akas['region'].str.contains('FR')]\n",
    "title_akas = title_akas.drop(columns=['region'])\n",
    "title_akas = pd.DataFrame(index=title_akas.index.drop_duplicates())\n",
    "\n",
    "name_basics = name_basics.dropna()\n",
    "name_basics = name_basics[['primaryName']][name_basics.primaryProfession.str.contains('actor|actress', regex=True)]\n"
   ]
  },
  {
   "source": [
    "## 1. Sélection de la liste des acteurs par films"
   ],
   "cell_type": "markdown",
   "metadata": {}
  },
  {
   "cell_type": "code",
   "execution_count": 6,
   "metadata": {},
   "outputs": [],
   "source": [
    "actors_movies = title_principals.merge(name_basics, right_index=True, left_on=['nconst'], how='left')\n",
    "actors_movies = actors_movies.merge(title_basics[['primaryTitle']], right_index=True, left_on=['tconst'], how='left')\n",
    "\n",
    "actors_movies = actors_movies.dropna()\n",
    "actors_movies = actors_movies[['primaryTitle', 'primaryName']]\n",
    "actors_movies = actors_movies.groupby('primaryTitle').agg({'primaryName': ', '.join})\n",
    "\n",
    "# Export en CSV\n",
    "actors_movies.to_csv('actors_movies.csv')"
   ]
  },
  {
   "source": [
    "## 2. La liste des films Américains (en gardant leur nom en français) et leur note moyenne"
   ],
   "cell_type": "markdown",
   "metadata": {}
  },
  {
   "cell_type": "code",
   "execution_count": 7,
   "metadata": {},
   "outputs": [],
   "source": [
    "american_movies = title_akas.merge(title_basics[['originalTitle']], how='left', left_index=True, right_index=True)\n",
    "american_movies = american_movies.dropna()\n",
    "\n",
    "american_movies = american_movies.merge(title_ratings, how='left', left_index=True, right_index=True)\n",
    "american_movies = american_movies.dropna()\n",
    "\n",
    "# Export en CSV :\n",
    "american_movies.to_csv('american_movies.csv', index=False)\n"
   ]
  },
  {
   "source": [
    "## 3. La note moyenne des différents genres"
   ],
   "cell_type": "markdown",
   "metadata": {}
  },
  {
   "cell_type": "code",
   "execution_count": 8,
   "metadata": {},
   "outputs": [],
   "source": [
    "temporary = title_basics[['genres']].merge(title_ratings, how='left', left_index=True, right_index=True)\n",
    "temporary = temporary.dropna()\n",
    "temporary = temporary[temporary.genres != '\\\\N']\n",
    "\n",
    "mean_genre = pd.DataFrame(temporary.genres.str.split(',').tolist(), index=temporary.index).stack()\n",
    "mean_genre = mean_genre.reset_index(['tconst', 0])\n",
    "\n",
    "temporary = temporary.drop(columns=['genres'])\n",
    "\n",
    "mean_genre = mean_genre.set_index('tconst')\n",
    "mean_genre.columns = ['genre']\n",
    "\n",
    "mean_genre = mean_genre.merge(temporary, how='left', left_index=True, right_index=True)\n",
    "mean_genre = mean_genre[mean_genre.genre != '\\\\N']\n",
    "\n",
    "mean_genre = mean_genre.groupby('genre').mean()\n",
    "\n",
    "mean_genre = mean_genre.sort_values(by=['averageRating'], ascending=False)\n",
    "\n",
    "mean_genre['averageRating'] = mean_genre['averageRating'].map('{:,.2f}'.format)\n",
    "\n",
    "# Export en CSV :\n",
    "mean_genre.to_csv('mean_genre.csv')"
   ]
  },
  {
   "source": [
    "## 4. La note moyenne de chaque acteur par rapport aux films dans lesquels il apparaît"
   ],
   "cell_type": "markdown",
   "metadata": {}
  },
  {
   "cell_type": "code",
   "execution_count": 9,
   "metadata": {},
   "outputs": [],
   "source": [
    "actors_ranking = title_principals[['nconst']].merge(title_basics[['titleType']], left_index=True, right_index=True, how='left').drop(columns='titleType').dropna()\n",
    "actors_ranking = actors_ranking.merge(name_basics, left_on='nconst', right_index=True, how='left').dropna()\n",
    "actors_ranking = actors_ranking.merge(title_ratings, left_index=True, right_on=['tconst'], how='left')[['averageRating', 'primaryName']].dropna()\n",
    "actors_ranking = actors_ranking.groupby('primaryName').agg({'averageRating': 'mean'})\n",
    "\n",
    "actors_ranking['averageRating'] = actors_ranking['averageRating'].map('{:,.2f}'.format)\n",
    "\n",
    "# Export en CSV :\n",
    "actors_ranking.to_csv('rating_actors.csv')"
   ]
  },
  {
   "cell_type": "code",
   "execution_count": null,
   "metadata": {},
   "outputs": [],
   "source": []
  }
 ]
}