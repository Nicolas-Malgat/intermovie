{
 "metadata": {
  "language_info": {
   "codemirror_mode": {
    "name": "ipython",
    "version": 3
   },
   "file_extension": ".py",
   "mimetype": "text/x-python",
   "name": "python",
   "nbconvert_exporter": "python",
   "pygments_lexer": "ipython3",
   "version": "3.7.6-final"
  },
  "orig_nbformat": 2,
  "kernelspec": {
   "name": "Python 3.7.6 64-bit ('base': conda)",
   "display_name": "Python 3.7.6 64-bit ('base': conda)",
   "metadata": {
    "interpreter": {
     "hash": "b57b0ba709768a7bbbc5b5f9f052a7cbe42e1ac711dd327dca942e98c95c92b1"
    }
   }
  }
 },
 "nbformat": 4,
 "nbformat_minor": 2,
 "cells": [
  {
   "source": [
    "# Intermovie - projet 6 \n",
    "Utilisation de dataframes pour manipuler des données. Exportation en CSV pour chaque dataframe créé. \n"
   ],
   "cell_type": "markdown",
   "metadata": {}
  },
  {
   "source": [
    "## Import des librairies"
   ],
   "cell_type": "markdown",
   "metadata": {}
  },
  {
   "cell_type": "code",
   "execution_count": null,
   "metadata": {
    "tags": []
   },
   "outputs": [],
   "source": [
    "from os import path, makedirs\n",
    "import pandas as pd\n",
    "import numpy as np\n",
    "\n",
    "from MODULES.loader import IntermovieDataLoader\n",
    "from MODULES.prediction import IntermoviePrediction\n",
    "from MODULES.my_timer import MyTimer\n",
    "timer = MyTimer()\n",
    "\n",
    "%load_ext autoreload\n",
    "%autoreload 2"
   ]
  },
  {
   "source": [
    "## Paramètrage général"
   ],
   "cell_type": "markdown",
   "metadata": {}
  },
  {
   "cell_type": "code",
   "execution_count": null,
   "metadata": {},
   "outputs": [],
   "source": [
    "DATASET_PATH = 'DATAS/movies_dataset/'\n",
    "CURATED_PATH = 'DATAS/CURATED/'\n",
    "WORKS = 'WORKS/'\n",
    "FORMATS = 'FORMATS/'\n",
    "REGIONS = 'REGIONS/'\n",
    "MOVIES_GENRES = 'MOVIES_GENRES/'\n",
    "nb_votes = 500\n",
    "\n",
    "data_loader = IntermovieDataLoader()\n",
    "\n",
    "if path.exists(CURATED_PATH) == False:\n",
    "    try:\n",
    "        os.makedirs(CURATED_PATH)\n",
    "    except OSError:\n",
    "        print (\"Creation of the directory %s failed\" % path)\n",
    "        exit(1)"
   ]
  },
  {
   "source": [
    "## Import et nettoyage des datasets"
   ],
   "cell_type": "markdown",
   "metadata": {}
  },
  {
   "cell_type": "code",
   "execution_count": null,
   "metadata": {
    "tags": []
   },
   "outputs": [],
   "source": [
    "# Téléchargement et dezip du dataset\n",
    "data_loader.ensure_data_loaded()"
   ]
  },
  {
   "cell_type": "code",
   "execution_count": null,
   "metadata": {
    "tags": []
   },
   "outputs": [],
   "source": [
    "# Import des datasets originaux.\n",
    "timer.start()\n",
    "title_principals = pd.read_csv(DATASET_PATH + \"title.principals.tsv\", sep='\\t', index_col='tconst', usecols=['nconst', 'tconst', 'category'], encoding='utf-8')\n",
    "timer.stop(\"Title.principals.tsv importé.\")\n",
    "\n",
    "timer.start()\n",
    "title_ratings = pd.read_csv(DATASET_PATH + \"title.ratings.tsv\", sep='\\t', index_col='tconst', encoding='utf-8')\n",
    "timer.stop(\"\\nTitle.ratings.tsv importé.\")\n",
    "\n",
    "timer.start()\n",
    "title_basics = pd.read_csv(DATASET_PATH + \"title.basics.tsv\", sep='\\t', index_col='tconst', usecols=['tconst', 'titleType', 'primaryTitle', 'originalTitle', 'genres'], encoding='utf-8')\n",
    "timer.stop(\"\\nTitle.basics.tsv importé.\")\n",
    "\n",
    "timer.start()\n",
    "title_akas = pd.read_csv(DATASET_PATH + \"title.akas.tsv\", sep='\\t', index_col='titleId', usecols=['titleId', 'title', 'region', 'isOriginalTitle'], encoding='utf-8')\n",
    "timer.stop(\"\\nTitle.akas.tsv importé.\")\n",
    "\n",
    "timer.start()\n",
    "name_basics = pd.read_csv(DATASET_PATH + \"name.basics.tsv\", sep='\\t', index_col='nconst', usecols=['nconst', 'primaryName', 'primaryProfession'], encoding='utf-8')\n",
    "timer.stop(\"\\nName.basics.tsv importé.\")\n",
    "\n",
    "# Nettoyage des datasets importés.\n",
    "timer.start()\n",
    "title_principals = title_principals.dropna()\n",
    "title_principals = title_principals[['nconst']][title_principals['category'].str.contains(\"actor|actress\", regex=True)]\n",
    "\n",
    "title_ratings = title_ratings.dropna()\n",
    "\n",
    "title_basics = title_basics[title_basics.genres != '\\\\N'].dropna()\n",
    "title_basics = title_basics[title_basics.titleType.str.contains('movie|tvMovie', regex=True)]\n",
    "\n",
    "title_akas = title_akas.dropna()\n",
    "title_akas = title_akas.replace('\\\\N', np.nan)\n",
    "\n",
    "name_basics = name_basics.dropna()\n",
    "name_basics = name_basics[['primaryName']][name_basics.primaryProfession.str.contains('actor|actress', regex=True)]\n",
    "timer.stop(\"\\nNettoyage du dataset :\")\n",
    "\n",
    "# Création d'un dataframe comportant les régions originales des films (et export en CSV).\n",
    "original_titles = title_akas[title_akas.isOriginalTitle==1]['title'].to_frame()\n",
    "original_titles = original_titles.merge(title_akas[['title', 'region']], how=\"left\", right_on=['titleId', 'title'], left_on=['titleId', 'title'])\n",
    "original_titles = original_titles.dropna()\n",
    "original_titles = original_titles.reset_index().drop_duplicates(subset=\"titleId\", keep = \"first\").set_index('titleId')\n",
    "original_titles.to_csv(CURATED_PATH + 'original_titles_regions.csv')\n",
    "\n",
    "# Splits des datasets (utilisés dans les bonus):\n",
    "data_loader.split_data_role()\n",
    "data_loader.split_data_type()\n",
    "data_loader.split_data_origine()\n",
    "data_loader.split_data_genres()\n"
   ]
  },
  {
   "source": [
    "## 1. Sélection de la liste des acteurs par films"
   ],
   "cell_type": "markdown",
   "metadata": {}
  },
  {
   "cell_type": "code",
   "execution_count": null,
   "metadata": {},
   "outputs": [],
   "source": [
    "actors_movies = title_principals.merge(name_basics, right_index=True, left_on=['nconst'], how='left')\n",
    "actors_movies = actors_movies.merge(title_basics[['primaryTitle']], right_index=True, left_on=['tconst'], how='left')\n",
    "actors_movies = actors_movies.dropna()\n",
    "actors_movies = actors_movies[['primaryTitle', 'primaryName']]\n",
    "actors_movies = actors_movies.groupby('primaryTitle').agg({'primaryName': ', '.join})\n",
    "\n",
    "# Export en CSV\n",
    "actors_movies.to_csv(CURATED_PATH + 'actors_movies.csv')"
   ]
  },
  {
   "source": [
    "## 2. La liste des films Américains (en gardant leur nom en français) et leur note moyenne"
   ],
   "cell_type": "markdown",
   "metadata": {}
  },
  {
   "cell_type": "code",
   "execution_count": null,
   "metadata": {},
   "outputs": [],
   "source": [
    "american_movies = pd.read_csv(CURATED_PATH + REGIONS + 'US.csv', delimiter=',', usecols=['titleId', 'title'], index_col = ['titleId'])\n",
    "american_movies = american_movies.rename(columns={\"title\": \"originalTitle\"})\n",
    "\n",
    "american_movies = american_movies.merge(title_akas[['title']][title_akas.region=='FR'], how=\"left\", left_index=True, right_index=True)\n",
    "american_movies = american_movies.rename(columns={\"title\": \"frenchTitle\"})\n",
    "american_movies = american_movies.dropna()\n",
    "\n",
    "american_movies = american_movies.merge(title_ratings[['averageRating']], how='left', left_index=True, right_index=True)\n",
    "american_movies = american_movies.dropna()\n",
    "\n",
    "# Export en CSV :\n",
    "american_movies.to_csv(CURATED_PATH + 'american_movies.csv', index=False)"
   ]
  },
  {
   "source": [
    "## 3. La note moyenne des différents genres"
   ],
   "cell_type": "markdown",
   "metadata": {}
  },
  {
   "cell_type": "code",
   "execution_count": null,
   "metadata": {},
   "outputs": [],
   "source": [
    "temporary = title_basics[['genres']].merge(title_ratings, how='left', left_index=True, right_index=True)\n",
    "temporary = temporary.dropna()\n",
    "temporary = temporary[temporary.genres != '\\\\N']\n",
    "\n",
    "mean_genre = pd.DataFrame(temporary.genres.str.split(',').tolist(), index=temporary.index).stack()\n",
    "mean_genre = mean_genre.reset_index(['tconst', 0])\n",
    "\n",
    "temporary = temporary.drop(columns=['genres'])\n",
    "\n",
    "mean_genre = mean_genre.set_index('tconst')\n",
    "mean_genre.columns = ['genre']\n",
    "\n",
    "mean_genre = mean_genre.merge(temporary, how='left', left_index=True, right_index=True)\n",
    "mean_genre = mean_genre[mean_genre.genre != '\\\\N']\n",
    "\n",
    "mean_genre = mean_genre.groupby('genre').mean()\n",
    "\n",
    "mean_genre = mean_genre.sort_values(by=['averageRating'], ascending=False)\n",
    "mean_genre['averageRating'] = mean_genre['averageRating'].map('{:,.2f}'.format)\n",
    "\n",
    "# Export en CSV :\n",
    "mean_genre.to_csv(CURATED_PATH + 'mean_genre.csv')"
   ]
  },
  {
   "source": [
    "## 4. La note moyenne de chaque acteur par rapport aux films dans lesquels il apparaît"
   ],
   "cell_type": "markdown",
   "metadata": {}
  },
  {
   "cell_type": "code",
   "execution_count": null,
   "metadata": {},
   "outputs": [],
   "source": [
    "actors_ranking = title_principals[['nconst']].merge(title_basics[['titleType']], left_index=True, right_index=True, how='left').drop(columns='titleType').dropna()\n",
    "actors_ranking = actors_ranking.merge(name_basics, left_on='nconst', right_index=True, how='left').dropna()\n",
    "actors_ranking = actors_ranking.merge(title_ratings, left_index=True, right_on=['tconst'], how='left')[['averageRating', 'primaryName']].dropna()\n",
    "actors_ranking = actors_ranking.groupby('primaryName').agg({'averageRating': 'mean'})\n",
    "actors_ranking['averageRating'] = actors_ranking['averageRating'].map('{:,.2f}'.format)\n",
    "\n",
    "# Export en CSV :\n",
    "actors_ranking.to_csv(CURATED_PATH + 'rating_actors.csv')"
   ]
  },
  {
   "source": [
    "# Partie Bonus"
   ],
   "cell_type": "markdown",
   "metadata": {}
  },
  {
   "source": [
    "## 3. Prediction des notes moyennes de films basées sur diverses paramètres"
   ],
   "cell_type": "markdown",
   "metadata": {}
  },
  {
   "cell_type": "code",
   "execution_count": null,
   "metadata": {},
   "outputs": [],
   "source": [
    "# Création d'un dataset comportant le scaractéristiques de tous les films avec leur note moyenne.\n",
    "\n",
    "actors = pd.concat([pd.read_csv(CURATED_PATH + WORKS + 'actor.csv', delimiter=',', usecols=['tconst', 'nconst'], index_col = ['tconst']), pd.read_csv(CURATED_PATH + WORKS + 'actress.csv', delimiter=',', usecols=['tconst', 'nconst'], index_col = ['tconst'])])\n",
    "actors = actors.rename(columns={\"nconst\": \"actors\"})\n",
    "\n",
    "movies = pd.read_csv(CURATED_PATH + FORMATS + 'movie.csv', delimiter=',', usecols=['tconst', 'isAdult', 'startYear', 'runtimeMinutes', 'genres'], index_col = ['tconst'])\n",
    "movies = movies[movies.runtimeMinutes != '\\\\N'][movies.genres != '\\\\N']\n",
    "\n",
    "dataset = actors.merge(movies, how='right', left_index=True, right_index=True)\n",
    "dataset = dataset.dropna()\n",
    "dataset = dataset.assign(genres=dataset['genres'].str.split(',')).explode('genres')\n",
    "\n",
    "producers = pd.read_csv(CURATED_PATH + WORKS + 'producer.csv', delimiter=',', usecols=['tconst', 'nconst'], index_col = ['tconst'])\n",
    "producers = producers.rename(columns={\"nconst\": \"producer\"})\n",
    "\n",
    "writers = pd.read_csv(CURATED_PATH + WORKS + 'writer.csv', delimiter=',', usecols=['tconst', 'nconst'], index_col = ['tconst'])\n",
    "writers = writers.rename(columns={\"nconst\": \"writer\"})\n",
    "\n",
    "composers = pd.read_csv(CURATED_PATH + WORKS + 'composer.csv', delimiter=',', usecols=['tconst', 'nconst'], index_col = ['tconst'])\n",
    "composers = composers.rename(columns={\"nconst\": \"composer\"})\n",
    "\n",
    "producers = producers.merge(writers, how=\"inner\", left_index=True, right_index=True)\n",
    "producers = producers.merge(composers, how=\"inner\", left_index=True, right_index=True)\n",
    "dataset = dataset.merge(producers, how=\"left\", left_index=True, right_index=True)\n",
    "dataset = dataset.dropna()\n",
    "\n",
    "dataset = dataset.merge(original_titles[['region']], how=\"left\", right_index=True, left_index=True)\n",
    "\n",
    "rated_movies = title_ratings[title_ratings.numVotes  > nb_votes]\n",
    "rated_movies = rated_movies[['averageRating']]\n",
    "dataset = dataset.merge(rated_movies, how='left', left_index=True, right_index=True)\n",
    "dataset = dataset.dropna()\n",
    "\n",
    "# Export en CSV :\n",
    "dataset.to_csv(CURATED_PATH + 'movies_infos.csv')"
   ]
  },
  {
   "cell_type": "code",
   "execution_count": null,
   "metadata": {},
   "outputs": [],
   "source": [
    "from MODULES.prediction import IntermoviePrediction\n",
    "\n",
    "predictor = IntermoviePrediction()\n",
    "\n",
    "try :\n",
    "    result = predictor.predict(dataset, 'tt0002844')\n",
    "    print(result)\n",
    "except : \n",
    "    print('Film non trouvé.')"
   ]
  }
 ]
}