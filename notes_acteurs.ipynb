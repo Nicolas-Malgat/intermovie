{
 "metadata": {
  "language_info": {
   "codemirror_mode": {
    "name": "ipython",
    "version": 3
   },
   "file_extension": ".py",
   "mimetype": "text/x-python",
   "name": "python",
   "nbconvert_exporter": "python",
   "pygments_lexer": "ipython3",
   "version": "3.7.6-final"
  },
  "orig_nbformat": 2,
  "kernelspec": {
   "name": "python3",
   "display_name": "Python 3"
  }
 },
 "nbformat": 4,
 "nbformat_minor": 2,
 "cells": [
  {
   "source": [
    "# Intermovie - projet 6 \n",
    "Utilisation de dataframes pour manipuler des données. Exportation en CSV pour chaque dataframe créé. "
   ],
   "cell_type": "markdown",
   "metadata": {}
  },
  {
   "source": [
    "## Import des librairies"
   ],
   "cell_type": "markdown",
   "metadata": {}
  },
  {
   "cell_type": "code",
   "execution_count": 1,
   "metadata": {
    "tags": []
   },
   "outputs": [],
   "source": [
    "import pandas as pd\n",
    "\n",
    "from my_timer import MyTimer\n",
    "timer = MyTimer()\n",
    "\n",
    "%load_ext autoreload\n",
    "%autoreload 2"
   ]
  },
  {
   "source": [
    "## 4. La note moyenne de chaque acteur par rapport aux films dans lesquels il apparaît\n",
    "### Import des datas initiaux :"
   ],
   "cell_type": "markdown",
   "metadata": {}
  },
  {
   "cell_type": "code",
   "execution_count": 2,
   "metadata": {
    "tags": []
   },
   "outputs": [
    {
     "output_type": "stream",
     "name": "stdout",
     "text": "Name basics imported.\nTitle principals imported.\nTitle Ratings imported.\nTitle Basics imported.\nChargement des csv :\nElapsed time: 176.7880 seconds\n"
    }
   ],
   "source": [
    "timer.start()\n",
    "\n",
    "name_basics = pd.read_csv(\"../movies_dataset/name.basics.tsv\", sep='\\t', index_col='nconst', usecols=['nconst', 'primaryName', 'primaryProfession'])\n",
    "print('Name basics imported.')\n",
    "\n",
    "title_principals = pd.read_csv(\"../movies_dataset/title.principals.tsv\", sep='\\t', index_col='tconst', usecols=['nconst', 'tconst', 'category'])\n",
    "print('Title principals imported.')\n",
    "\n",
    "title_ratings = pd.read_csv(\"../movies_dataset/title.ratings.tsv\", sep='\\t', index_col='tconst', usecols=['tconst', 'averageRating'])\n",
    "print('Title Ratings imported.')\n",
    "\n",
    "title_basics = pd.read_csv(\"../movies_dataset/title.basics.tsv\", sep='\\t', index_col='tconst', usecols=['tconst', 'titleType'])\n",
    "print('Title Basics imported.')\n",
    "\n",
    "timer.stop(\"Chargement des csv :\")"
   ]
  },
  {
   "source": [
    "### Nettoyage du dataset :"
   ],
   "cell_type": "markdown",
   "metadata": {}
  },
  {
   "cell_type": "code",
   "execution_count": 9,
   "metadata": {
    "tags": []
   },
   "outputs": [
    {
     "output_type": "error",
     "ename": "TimerError",
     "evalue": "Timer is running. Use .stop() to stop it",
     "traceback": [
      "\u001b[1;31m---------------------------------------------------------------------------\u001b[0m",
      "\u001b[1;31mTimerError\u001b[0m                                Traceback (most recent call last)",
      "\u001b[1;32m<ipython-input-9-4968a20ff3ab>\u001b[0m in \u001b[0;36m<module>\u001b[1;34m\u001b[0m\n\u001b[1;32m----> 1\u001b[1;33m \u001b[0mtimer\u001b[0m\u001b[1;33m.\u001b[0m\u001b[0mstart\u001b[0m\u001b[1;33m(\u001b[0m\u001b[1;33m)\u001b[0m\u001b[1;33m\u001b[0m\u001b[1;33m\u001b[0m\u001b[0m\n\u001b[0m\u001b[0;32m      2\u001b[0m \u001b[1;33m\u001b[0m\u001b[0m\n\u001b[0;32m      3\u001b[0m \u001b[1;31m# title_principals = title_principals\u001b[0m\u001b[1;33m\u001b[0m\u001b[1;33m\u001b[0m\u001b[1;33m\u001b[0m\u001b[0m\n\u001b[0;32m      4\u001b[0m \u001b[1;31m# title_principals = title_principals[['nconst']][title_principals['category'].str.contains(\"actor|actress\", regex=True)]\u001b[0m\u001b[1;33m\u001b[0m\u001b[1;33m\u001b[0m\u001b[1;33m\u001b[0m\u001b[0m\n\u001b[0;32m      5\u001b[0m \u001b[1;33m\u001b[0m\u001b[0m\n",
      "\u001b[1;32mc:\\Users\\utilisateur\\Documents\\Projet Intermovie\\intermovie\\my_timer.py\u001b[0m in \u001b[0;36mstart\u001b[1;34m(self)\u001b[0m\n\u001b[0;32m     13\u001b[0m         \u001b[1;34m\"\"\"Start a new timer\"\"\"\u001b[0m\u001b[1;33m\u001b[0m\u001b[1;33m\u001b[0m\u001b[0m\n\u001b[0;32m     14\u001b[0m         \u001b[1;32mif\u001b[0m \u001b[0mself\u001b[0m\u001b[1;33m.\u001b[0m\u001b[0m_start_time\u001b[0m \u001b[1;32mis\u001b[0m \u001b[1;32mnot\u001b[0m \u001b[1;32mNone\u001b[0m\u001b[1;33m:\u001b[0m\u001b[1;33m\u001b[0m\u001b[1;33m\u001b[0m\u001b[0m\n\u001b[1;32m---> 15\u001b[1;33m             \u001b[1;32mraise\u001b[0m \u001b[0mTimerError\u001b[0m\u001b[1;33m(\u001b[0m\u001b[1;34mf\"Timer is running. Use .stop() to stop it\"\u001b[0m\u001b[1;33m)\u001b[0m\u001b[1;33m\u001b[0m\u001b[1;33m\u001b[0m\u001b[0m\n\u001b[0m\u001b[0;32m     16\u001b[0m \u001b[1;33m\u001b[0m\u001b[0m\n\u001b[0;32m     17\u001b[0m         \u001b[0mself\u001b[0m\u001b[1;33m.\u001b[0m\u001b[0m_start_time\u001b[0m \u001b[1;33m=\u001b[0m \u001b[0mtime\u001b[0m\u001b[1;33m.\u001b[0m\u001b[0mperf_counter\u001b[0m\u001b[1;33m(\u001b[0m\u001b[1;33m)\u001b[0m\u001b[1;33m\u001b[0m\u001b[1;33m\u001b[0m\u001b[0m\n",
      "\u001b[1;31mTimerError\u001b[0m: Timer is running. Use .stop() to stop it"
     ]
    }
   ],
   "source": [
    "timer.start()\n",
    "\n",
    "title_principals = title_principals\n",
    "title_principals = title_principals[['nconst']][title_principals['category'].str.contains(\"actor|actress\", regex=True)]\n",
    "\n",
    "title_ratings = title_ratings.dropna()\n",
    "\n",
    "title_basics = title_basics.dropna()\n",
    "title_basics = title_basics[['titleType']][title_basics.titleType.str.contains('movie|tvMovie', regex=True)]\n",
    "\n",
    "name_basics = name_basics.dropna()\n",
    "name_basics = name_basics[['primaryName']][name_basics.primaryProfession.str.contains('actor|actress', regex=True)]\n",
    "\n",
    "timer.stop(\"Nettoyage des datasets :\")"
   ]
  },
  {
   "source": [
    "### Jointure des tables et calcul des moyennes :"
   ],
   "cell_type": "markdown",
   "metadata": {}
  },
  {
   "cell_type": "code",
   "execution_count": null,
   "metadata": {},
   "outputs": [],
   "source": [
    "actors_ranking = title_principals.merge(title_basics, left_index=True, right_index=True, how='left').drop(columns='titleType').dropna()\n",
    "actors_ranking = actors_ranking.merge(name_basics, left_on='nconst', right_index=True, how='left').dropna()\n",
    "actors_ranking = actors_ranking.merge(title_ratings, left_index=True, right_on=['tconst'], how='left')[['averageRating', 'primaryName']].dropna()\n",
    "actors_ranking=actors_ranking.groupby('primaryName').agg({'averageRating': 'mean'})"
   ]
  },
  {
   "source": [
    "### Import en CSV du fichier"
   ],
   "cell_type": "markdown",
   "metadata": {}
  },
  {
   "cell_type": "code",
   "execution_count": null,
   "metadata": {},
   "outputs": [],
   "source": [
    "actors_ranking.to_csv('rating_actors.csv', index=False)"
   ]
  },
  {
   "cell_type": "code",
   "execution_count": null,
   "metadata": {},
   "outputs": [],
   "source": []
  }
 ]
}