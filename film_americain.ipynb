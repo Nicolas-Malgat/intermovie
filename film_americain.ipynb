{
 "metadata": {
  "language_info": {
   "codemirror_mode": {
    "name": "ipython",
    "version": 3
   },
   "file_extension": ".py",
   "mimetype": "text/x-python",
   "name": "python",
   "nbconvert_exporter": "python",
   "pygments_lexer": "ipython3",
   "version": "3.7.6-final"
  },
  "orig_nbformat": 2,
  "kernelspec": {
   "name": "python3",
   "display_name": "Python 3"
  }
 },
 "nbformat": 4,
 "nbformat_minor": 2,
 "cells": [
  {
   "source": [
    "# Intermovie - projet 6 \n",
    "Utilisation de dataframes pour manipuler des données. Exportation en CSV pour chaque dataframe créé. "
   ],
   "cell_type": "markdown",
   "metadata": {}
  },
  {
   "source": [
    "## Import des librairies"
   ],
   "cell_type": "markdown",
   "metadata": {}
  },
  {
   "cell_type": "code",
   "execution_count": 1,
   "metadata": {
    "tags": []
   },
   "outputs": [],
   "source": [
    "import pandas as pd\n",
    "\n",
    "%load_ext autoreload\n",
    "%autoreload 2"
   ]
  },
  {
   "source": [
    "## 2. La liste des films Américains (en gardant leur nom en français) et leur note moyenne\n",
    "### Import des datas initiaux :"
   ],
   "cell_type": "markdown",
   "metadata": {}
  },
  {
   "cell_type": "code",
   "execution_count": 2,
   "metadata": {
    "tags": []
   },
   "outputs": [
    {
     "output_type": "stream",
     "name": "stdout",
     "text": "Title Akas imported.\nTitle Basics imported.\nTitle Ratings imported.\n"
    }
   ],
   "source": [
    "title_akas = pd.read_csv(\"../movies_dataset/title.akas.tsv\",sep='\\t', index_col='titleId', usecols=['titleId', 'region'])\n",
    "title_akas = title_akas.dropna()\n",
    "print('Title Akas imported.')\n",
    "\n",
    "title_basics = pd.read_csv(\"../movies_dataset/title.basics.tsv\",sep='\\t',index_col='tconst',usecols=['tconst', 'originalTitle', 'titleType'])\n",
    "print('Title Basics imported.')\n",
    "\n",
    "title_ratings = pd.read_csv(\"../movies_dataset/title.ratings.tsv\", sep='\\t', index_col='tconst', usecols=['tconst', 'averageRating'])\n",
    "title_ratings = title_ratings.dropna()\n",
    "print('Title Ratings imported.')"
   ]
  },
  {
   "source": [
    "### Nettoyage du dataset :"
   ],
   "cell_type": "markdown",
   "metadata": {}
  },
  {
   "cell_type": "code",
   "execution_count": 3,
   "metadata": {
    "tags": []
   },
   "outputs": [
    {
     "output_type": "stream",
     "name": "stdout",
     "text": "2409348\ndrop duplicates:  2400458\n"
    }
   ],
   "source": [
    "title_akas = title_akas.rename(columns={'titleId': 'tconst'})\n",
    "\n",
    "title_akas = title_akas[title_akas['region'].str.contains('FR')]\n",
    "title_akas = title_akas.drop(columns=['region'])\n",
    "\n",
    "print(len(title_akas))\n",
    "title_akas = pd.DataFrame(index=title_akas.index.drop_duplicates())\n",
    "print('drop duplicates: ', len(title_akas))"
   ]
  },
  {
   "cell_type": "code",
   "execution_count": 4,
   "metadata": {
    "tags": []
   },
   "outputs": [],
   "source": [
    "title_basics = title_basics[['originalTitle']][title_basics.titleType.str.contains('movie|tvMovie', regex=True)]"
   ]
  },
  {
   "source": [
    "### Jointure des tables :"
   ],
   "cell_type": "markdown",
   "metadata": {}
  },
  {
   "cell_type": "code",
   "execution_count": 5,
   "metadata": {
    "tags": []
   },
   "outputs": [
    {
     "output_type": "stream",
     "name": "stdout",
     "text": "drop na:  69816\n"
    }
   ],
   "source": [
    "title_akas = title_akas.merge(title_basics, how='left', left_index=True, right_index=True)\n",
    "title_akas = title_akas.dropna()\n",
    "print('drop na: ', len(title_akas))"
   ]
  },
  {
   "cell_type": "code",
   "execution_count": 6,
   "metadata": {
    "tags": []
   },
   "outputs": [
    {
     "output_type": "stream",
     "name": "stdout",
     "text": "drop na:  52660\n"
    }
   ],
   "source": [
    "title_akas = title_akas.merge(title_ratings, how='left', left_index=True, right_index=True)\n",
    "title_akas = title_akas.dropna()\n",
    "title_akas = title_akas[['originalTitle', 'averageRating']]\n",
    "print('drop na: ', len(title_akas))"
   ]
  },
  {
   "source": [
    "### Import en CSV du fichier"
   ],
   "cell_type": "markdown",
   "metadata": {}
  },
  {
   "cell_type": "code",
   "execution_count": 7,
   "metadata": {},
   "outputs": [],
   "source": [
    "title_akas.to_csv('films_americains_notes.csv', index=False)"
   ]
  },
  {
   "cell_type": "code",
   "execution_count": null,
   "metadata": {},
   "outputs": [],
   "source": []
  }
 ]
}