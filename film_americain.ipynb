{
 "metadata": {
  "language_info": {
   "codemirror_mode": {
    "name": "ipython",
    "version": 3
   },
   "file_extension": ".py",
   "mimetype": "text/x-python",
   "name": "python",
   "nbconvert_exporter": "python",
   "pygments_lexer": "ipython3",
   "version": "3.7.6-final"
  },
  "orig_nbformat": 2,
  "kernelspec": {
   "name": "python3",
   "display_name": "Python 3"
  }
 },
 "nbformat": 4,
 "nbformat_minor": 2,
 "cells": [
  {
   "source": [
    "# Intermovie - projet 6 \n",
    "Utilisation de dataframes pour manipuler des données. Exportation en CSV pour chaque dataframe créé. "
   ],
   "cell_type": "markdown",
   "metadata": {}
  },
  {
   "source": [
    "## Import des librairies"
   ],
   "cell_type": "markdown",
   "metadata": {}
  },
  {
   "cell_type": "code",
   "execution_count": 1,
   "metadata": {
    "tags": []
   },
   "outputs": [],
   "source": [
    "import pandas as pd\n",
    "\n",
    "%load_ext autoreload\n",
    "%autoreload 2"
   ]
  },
  {
   "source": [
    "## 2. La liste des films Américains (en gardant leur nom en français) et leur note moyenne\n",
    "### Import des datas initiaux :"
   ],
   "cell_type": "markdown",
   "metadata": {}
  },
  {
   "cell_type": "code",
   "execution_count": 2,
   "metadata": {
    "tags": []
   },
   "outputs": [
    {
     "output_type": "stream",
     "name": "stdout",
     "text": "Title Akas imported.\nTitle Basics imported.\nTitle Ratings imported.\n"
    }
   ],
   "source": [
    "title_akas = pd.read_csv(\"../movies_dataset/title.akas.tsv\",sep='\\t')\n",
    "print('Title Akas imported.')\n",
    "\n",
    "title_basics = pd.read_csv(\"../movies_dataset/title.basics.tsv\",sep='\\t')\n",
    "print('Title Basics imported.')\n",
    "\n",
    "title_ratings = pd.read_csv(\"../movies_dataset/title.ratings.tsv\",sep='\\t')\n",
    "print('Title Ratings imported.')"
   ]
  },
  {
   "source": [
    "### Nettoyage du dataset :"
   ],
   "cell_type": "markdown",
   "metadata": {}
  },
  {
   "cell_type": "code",
   "execution_count": 3,
   "metadata": {},
   "outputs": [],
   "source": [
    "title_akas = title_akas.dropna()\n",
    "title_akas = title_akas[['titleId']][title_akas['region'].str.contains('US')]"
   ]
  },
  {
   "cell_type": "code",
   "execution_count": 4,
   "metadata": {},
   "outputs": [],
   "source": [
    "title_basics = title_basics.dropna()\n",
    "title_basics = title_basics[['tconst', 'originalTitle']][title_basics.titleType.str.contains('movie|tvMovie', regex=True)]"
   ]
  },
  {
   "cell_type": "code",
   "execution_count": 5,
   "metadata": {},
   "outputs": [],
   "source": [
    "title_ratings = title_ratings.dropna()\n",
    "title_ratings = title_ratings[['tconst', 'averageRating']]"
   ]
  },
  {
   "source": [
    "### Jointure des tables :"
   ],
   "cell_type": "markdown",
   "metadata": {}
  },
  {
   "cell_type": "code",
   "execution_count": 6,
   "metadata": {},
   "outputs": [
    {
     "output_type": "execute_result",
     "data": {
      "text/plain": "           tconst                   originalTitle  averageRating\n12      tt0000009                      Miss Jerry            5.4\n91      tt0000147   The Corbett-Fitzsimmons Fight            5.2\n299     tt0000630                          Amleto            2.7\n332     tt0000679  The Fairylogue and Radio-Plays            4.8\n502     tt0000886                          Hamlet            5.2\n...           ...                             ...            ...\n876589  tt9894470                             VFW            7.2\n876593  tt9896916          The Pilgrim's Progress            5.0\n876604  tt9900782                          Kaithi            8.9\n876619  tt9906644                       Manoharam            7.6\n876632  tt9909228                           Ximei            5.5\n\n[132345 rows x 3 columns]",
      "text/html": "<div>\n<style scoped>\n    .dataframe tbody tr th:only-of-type {\n        vertical-align: middle;\n    }\n\n    .dataframe tbody tr th {\n        vertical-align: top;\n    }\n\n    .dataframe thead th {\n        text-align: right;\n    }\n</style>\n<table border=\"1\" class=\"dataframe\">\n  <thead>\n    <tr style=\"text-align: right;\">\n      <th></th>\n      <th>tconst</th>\n      <th>originalTitle</th>\n      <th>averageRating</th>\n    </tr>\n  </thead>\n  <tbody>\n    <tr>\n      <th>12</th>\n      <td>tt0000009</td>\n      <td>Miss Jerry</td>\n      <td>5.4</td>\n    </tr>\n    <tr>\n      <th>91</th>\n      <td>tt0000147</td>\n      <td>The Corbett-Fitzsimmons Fight</td>\n      <td>5.2</td>\n    </tr>\n    <tr>\n      <th>299</th>\n      <td>tt0000630</td>\n      <td>Amleto</td>\n      <td>2.7</td>\n    </tr>\n    <tr>\n      <th>332</th>\n      <td>tt0000679</td>\n      <td>The Fairylogue and Radio-Plays</td>\n      <td>4.8</td>\n    </tr>\n    <tr>\n      <th>502</th>\n      <td>tt0000886</td>\n      <td>Hamlet</td>\n      <td>5.2</td>\n    </tr>\n    <tr>\n      <th>...</th>\n      <td>...</td>\n      <td>...</td>\n      <td>...</td>\n    </tr>\n    <tr>\n      <th>876589</th>\n      <td>tt9894470</td>\n      <td>VFW</td>\n      <td>7.2</td>\n    </tr>\n    <tr>\n      <th>876593</th>\n      <td>tt9896916</td>\n      <td>The Pilgrim's Progress</td>\n      <td>5.0</td>\n    </tr>\n    <tr>\n      <th>876604</th>\n      <td>tt9900782</td>\n      <td>Kaithi</td>\n      <td>8.9</td>\n    </tr>\n    <tr>\n      <th>876619</th>\n      <td>tt9906644</td>\n      <td>Manoharam</td>\n      <td>7.6</td>\n    </tr>\n    <tr>\n      <th>876632</th>\n      <td>tt9909228</td>\n      <td>Ximei</td>\n      <td>5.5</td>\n    </tr>\n  </tbody>\n</table>\n<p>132345 rows × 3 columns</p>\n</div>"
     },
     "metadata": {},
     "execution_count": 6
    }
   ],
   "source": [
    "title_akas = title_akas.rename(columns={'titleId': 'tconst'})\n",
    "title_akas = title_akas.merge(title_basics, how='left', on=['tconst'])\n",
    "title_akas = title_akas.merge(title_ratings, how='left', on=['tconst'])\n",
    "title_akas.dropna()\n"
   ]
  },
  {
   "cell_type": "code",
   "execution_count": 7,
   "metadata": {},
   "outputs": [],
   "source": [
    "title_akas = title_akas[['originalTitle', 'averageRating']]\n",
    "title_akas = title_akas.dropna()\n",
    "title_akas.drop_duplicates(keep=False,inplace=True)\n",
    "title_akas = title_akas.reset_index(drop=True)"
   ]
  },
  {
   "source": [
    "### Import en CSV du fichier"
   ],
   "cell_type": "markdown",
   "metadata": {}
  },
  {
   "cell_type": "code",
   "execution_count": 22,
   "metadata": {},
   "outputs": [],
   "source": [
    "title_akas.to_csv('films_americains_notes2.csv', index=False)"
   ]
  },
  {
   "cell_type": "code",
   "execution_count": null,
   "metadata": {},
   "outputs": [],
   "source": []
  }
 ]
}