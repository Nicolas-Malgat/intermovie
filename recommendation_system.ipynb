{
 "metadata": {
  "language_info": {
   "codemirror_mode": {
    "name": "ipython",
    "version": 3
   },
   "file_extension": ".py",
   "mimetype": "text/x-python",
   "name": "python",
   "nbconvert_exporter": "python",
   "pygments_lexer": "ipython3",
   "version": "3.7.6-final"
  },
  "orig_nbformat": 2,
  "kernelspec": {
   "name": "Python 3.7.6 64-bit ('base': conda)",
   "display_name": "Python 3.7.6 64-bit ('base': conda)",
   "metadata": {
    "interpreter": {
     "hash": "b57b0ba709768a7bbbc5b5f9f052a7cbe42e1ac711dd327dca942e98c95c92b1"
    }
   }
  }
 },
 "nbformat": 4,
 "nbformat_minor": 2,
 "cells": [
  {
   "source": [
    "### Système de recommendation très fortement corrélé avec [cette vidéo](https://www.youtube.com/watch?v=UoQyGG9mbSQ) \n"
   ],
   "cell_type": "markdown",
   "metadata": {}
  },
  {
   "cell_type": "code",
   "execution_count": 2,
   "metadata": {},
   "outputs": [],
   "source": [
    "import numpy as np\n",
    "import pandas as pd\n",
    "# import seaborn as sns\n",
    "import matplotlib.pyplot as plt\n",
    "\n",
    "%load_ext autoreload\n",
    "%autoreload 2"
   ]
  },
  {
   "source": [
    "## Chargement des dataframes"
   ],
   "cell_type": "markdown",
   "metadata": {}
  },
  {
   "cell_type": "code",
   "execution_count": 3,
   "metadata": {},
   "outputs": [
    {
     "output_type": "execute_result",
     "data": {
      "text/plain": "           averageRating  numVotes\ntconst                            \ntt0000001            5.6      1550\ntt0000002            6.1       186\ntt0000003            6.5      1207\ntt0000004            6.2       113\ntt0000005            6.1      1934",
      "text/html": "<div>\n<style scoped>\n    .dataframe tbody tr th:only-of-type {\n        vertical-align: middle;\n    }\n\n    .dataframe tbody tr th {\n        vertical-align: top;\n    }\n\n    .dataframe thead th {\n        text-align: right;\n    }\n</style>\n<table border=\"1\" class=\"dataframe\">\n  <thead>\n    <tr style=\"text-align: right;\">\n      <th></th>\n      <th>averageRating</th>\n      <th>numVotes</th>\n    </tr>\n    <tr>\n      <th>tconst</th>\n      <th></th>\n      <th></th>\n    </tr>\n  </thead>\n  <tbody>\n    <tr>\n      <th>tt0000001</th>\n      <td>5.6</td>\n      <td>1550</td>\n    </tr>\n    <tr>\n      <th>tt0000002</th>\n      <td>6.1</td>\n      <td>186</td>\n    </tr>\n    <tr>\n      <th>tt0000003</th>\n      <td>6.5</td>\n      <td>1207</td>\n    </tr>\n    <tr>\n      <th>tt0000004</th>\n      <td>6.2</td>\n      <td>113</td>\n    </tr>\n    <tr>\n      <th>tt0000005</th>\n      <td>6.1</td>\n      <td>1934</td>\n    </tr>\n  </tbody>\n</table>\n</div>"
     },
     "metadata": {},
     "execution_count": 3
    }
   ],
   "source": [
    "title_ratings = pd.read_csv(\"../movies_dataset/title.ratings.tsv\", sep='\\t', index_col='tconst')\n",
    "title_ratings.head()"
   ]
  },
  {
   "cell_type": "code",
   "execution_count": 4,
   "metadata": {},
   "outputs": [
    {
     "output_type": "execute_result",
     "data": {
      "text/plain": "          titleType                   primaryTitle                  genres\ntconst                                                                    \ntt0000009     movie                     Miss Jerry                 Romance\ntt0000147     movie  The Corbett-Fitzsimmons Fight  Documentary,News,Sport\ntt0000335     movie          Soldiers of the Cross         Biography,Drama\ntt0000502     movie                       Bohemios                      \\N\ntt0000574     movie    The Story of the Kelly Gang   Biography,Crime,Drama",
      "text/html": "<div>\n<style scoped>\n    .dataframe tbody tr th:only-of-type {\n        vertical-align: middle;\n    }\n\n    .dataframe tbody tr th {\n        vertical-align: top;\n    }\n\n    .dataframe thead th {\n        text-align: right;\n    }\n</style>\n<table border=\"1\" class=\"dataframe\">\n  <thead>\n    <tr style=\"text-align: right;\">\n      <th></th>\n      <th>titleType</th>\n      <th>primaryTitle</th>\n      <th>genres</th>\n    </tr>\n    <tr>\n      <th>tconst</th>\n      <th></th>\n      <th></th>\n      <th></th>\n    </tr>\n  </thead>\n  <tbody>\n    <tr>\n      <th>tt0000009</th>\n      <td>movie</td>\n      <td>Miss Jerry</td>\n      <td>Romance</td>\n    </tr>\n    <tr>\n      <th>tt0000147</th>\n      <td>movie</td>\n      <td>The Corbett-Fitzsimmons Fight</td>\n      <td>Documentary,News,Sport</td>\n    </tr>\n    <tr>\n      <th>tt0000335</th>\n      <td>movie</td>\n      <td>Soldiers of the Cross</td>\n      <td>Biography,Drama</td>\n    </tr>\n    <tr>\n      <th>tt0000502</th>\n      <td>movie</td>\n      <td>Bohemios</td>\n      <td>\\N</td>\n    </tr>\n    <tr>\n      <th>tt0000574</th>\n      <td>movie</td>\n      <td>The Story of the Kelly Gang</td>\n      <td>Biography,Crime,Drama</td>\n    </tr>\n  </tbody>\n</table>\n</div>"
     },
     "metadata": {},
     "execution_count": 4
    }
   ],
   "source": [
    "title_basics = pd.read_csv(\"../movies_dataset/title.basics.tsv\", sep='\\t', index_col='tconst', usecols=['tconst', 'titleType', 'primaryTitle', 'genres'])\n",
    "title_basics = title_basics[title_basics.titleType.str.contains('movie|tvMovie', regex=True)]\n",
    "title_basics.head()"
   ]
  },
  {
   "source": [
    "## Filtrage des dataframes"
   ],
   "cell_type": "markdown",
   "metadata": {}
  },
  {
   "cell_type": "code",
   "execution_count": 10,
   "metadata": {
    "tags": []
   },
   "outputs": [
    {
     "output_type": "stream",
     "name": "stdout",
     "text": "656571\n571959\n"
    }
   ],
   "source": [
    "print(len(title_basics))\n",
    "title_basics = title_basics[title_basics.genres != '\\\\N']\n",
    "print(len(title_basics))"
   ]
  },
  {
   "source": [
    "## Manipulations diverses"
   ],
   "cell_type": "markdown",
   "metadata": {}
  }
 ]
}