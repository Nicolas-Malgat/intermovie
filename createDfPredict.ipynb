{
 "metadata": {
  "language_info": {
   "codemirror_mode": {
    "name": "ipython",
    "version": 3
   },
   "file_extension": ".py",
   "mimetype": "text/x-python",
   "name": "python",
   "nbconvert_exporter": "python",
   "pygments_lexer": "ipython3",
   "version": "3.7.6-final"
  },
  "orig_nbformat": 2,
  "kernelspec": {
   "name": "Python 3.7.6 64-bit ('base': conda)",
   "display_name": "Python 3.7.6 64-bit ('base': conda)",
   "metadata": {
    "interpreter": {
     "hash": "b57b0ba709768a7bbbc5b5f9f052a7cbe42e1ac711dd327dca942e98c95c92b1"
    }
   }
  }
 },
 "nbformat": 4,
 "nbformat_minor": 2,
 "cells": [
  {
   "cell_type": "code",
   "execution_count": 4,
   "metadata": {
    "tags": []
   },
   "outputs": [],
   "source": [
    "# chargement des extensions\n",
    "%reload_ext autoreload\n",
    "%autoreload 2\n",
    "\n",
    "# import des librairies\n",
    "from MODULES.loader import IntermovieDataLoader\n",
    "import pandas as pd"
   ]
  },
  {
   "cell_type": "code",
   "execution_count": 5,
   "metadata": {
    "tags": []
   },
   "outputs": [],
   "source": [
    "nb_votes = 100\n",
    "\n",
    "data_loader = IntermovieDataLoader()\n",
    "data_loader.split_data_role()\n",
    "data_loader.split_data_type()"
   ]
  },
  {
   "cell_type": "code",
   "execution_count": 14,
   "metadata": {
    "tags": []
   },
   "outputs": [],
   "source": [
    "actors = pd.concat([pd.read_csv('../datas/CURATED/actor.csv', delimiter=',', usecols=['tconst', 'nconst'], index_col = ['tconst']), pd.read_csv('../datas/CURATED/actress.csv', delimiter=',', usecols=['tconst', 'nconst'], index_col = ['tconst'])])\n",
    "\n",
    "movies = pd.read_csv('../datas/CURATED/movie.csv', delimiter=',', usecols=['tconst', 'isAdult', 'startYear', 'runtimeMinutes', 'genres'], index_col = ['tconst'])\n",
    "movies = movies[movies.runtimeMinutes != '\\\\N'][movies.genres != '\\\\N']\n",
    "\n",
    "dataset = actors.merge(movies, how='right', left_index=True, right_index=True)\n",
    "dataset = dataset.dropna()\n",
    "dataset = dataset.assign(genres=dataset['genres'].str.split(',')).explode('genres')"
   ]
  },
  {
   "cell_type": "code",
   "execution_count": null,
   "metadata": {},
   "outputs": [],
   "source": []
  }
 ]
}