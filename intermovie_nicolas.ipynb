{
 "metadata": {
  "language_info": {
   "codemirror_mode": {
    "name": "ipython",
    "version": 3
   },
   "file_extension": ".py",
   "mimetype": "text/x-python",
   "name": "python",
   "nbconvert_exporter": "python",
   "pygments_lexer": "ipython3",
   "version": "3.7.6-final"
  },
  "orig_nbformat": 2,
  "kernelspec": {
   "name": "python_defaultSpec_1600680978226",
   "display_name": "Python 3.7.6 64-bit ('base': conda)"
  }
 },
 "nbformat": 4,
 "nbformat_minor": 2,
 "cells": [
  {
   "source": [
    "# Intermovie - projet 6 \n",
    "Utilisation de dataframes pour manipuler des données. Exportation en CSV pour chaque dataframe créé. "
   ],
   "cell_type": "markdown",
   "metadata": {}
  },
  {
   "source": [
    "## Import des librairies et chargement des dataframes"
   ],
   "cell_type": "markdown",
   "metadata": {}
  },
  {
   "source": [
    "%load_ext autoreload\n",
    "%autoreload 2\n",
    "\n",
    "import pandas as pd\n",
    "import numpy as np\n",
    "import csv\n",
    "from my_timer import MyTimer\n",
    "import random\n"
   ],
   "cell_type": "code",
   "metadata": {
    "tags": []
   },
   "execution_count": 39,
   "outputs": [
    {
     "output_type": "stream",
     "name": "stdout",
     "text": "The autoreload extension is already loaded. To reload it, use:\n  %reload_ext autoreload\n"
    }
   ]
  },
  {
   "cell_type": "code",
   "execution_count": null,
   "metadata": {},
   "outputs": [],
   "source": [
    "# identifiant, nom, dates et travail\n",
    "dataframe_name_basics = pd.read_csv(\"../movies_dataset/name.basics.tsv\",sep='\\t')\n",
    "# identifiant et titre de film\n",
    "dataframe_title_akas = pd.read_csv(\"../movies_dataset/title.akas.tsv\",sep='\\t')\n",
    "# films avec leur titre, genre etc\n",
    "dataframe_title_basics = pd.read_csv(\"../movies_dataset/title.basics.tsv\",sep='\\t')\n",
    "# identifiant de personnes avec leur film\n",
    "title_principals = pd.read_csv(\"../movies_dataset/title.principals.tsv\",sep='\\t')\n",
    "# film avec note et nbr vote\n",
    "dataframe_title_ratings = pd.read_csv(\"../movies_dataset/title.ratings.tsv\",sep='\\t')\n",
    "\n",
    "# dataframe_title_principals.head()"
   ]
  },
  {
   "source": [
    "## 1. Sélection de la liste des acteurs par films"
   ],
   "cell_type": "markdown",
   "metadata": {}
  },
  {
   "source": [
    "Chargement d'un echantillon de title.principals.tsv"
   ],
   "cell_type": "markdown",
   "metadata": {}
  },
  {
   "cell_type": "code",
   "execution_count": 41,
   "metadata": {
    "tags": []
   },
   "outputs": [
    {
     "output_type": "stream",
     "name": "stdout",
     "text": "tconst  ordering     nconst  category job        characters\n0  tt0000564         1  nm0085865  director  \\N                \\N\n1  tt0000938         7  nm0366008     actor  \\N                \\N\n2  tt0001135         6  nm0852022    writer  \\N                \\N\n3  tt0001925         3  nm0673814     actor  \\N  [\"Joseph Close\"]\n4  tt0002684         5  nm0376396  director  \\N                \\N\n      tconst titleType                  primaryTitle  \\\n0  tt0000632     short                 Amor que mata   \n1  tt0002353     short          A Matter of Business   \n2  tt0002761     short  The Conscience of Hassan Bey   \n3  tt0005718     short        Martin Lowe, Financier   \n4  tt0007045     movie          Martha's Vindication   \n\n                  originalTitle  isAdult startYear endYear runtimeMinutes  \\\n0                 Amor que mata        0      1908      \\N             14   \n1          A Matter of Business        0      1912      \\N             \\N   \n2  The Conscience of Hassan Bey        0      1913      \\N             10   \n3        Martin Lowe, Financier        0      1915      \\N             \\N   \n4          Martha's Vindication        0      1916      \\N             50   \n\n        genres  \n0        Short  \n1  Drama,Short  \n2  Drama,Short  \n3  Drama,Short  \n4        Drama  \n      nconst        primaryName birthYear deathYear  \\\n0  nm0000378      Minnie Driver      1970        \\N   \n1  nm0001248      Zsa Zsa Gabor      1917      2016   \n2  nm0002066      Ramon Estevez      1963        \\N   \n3  nm0002528  Thomas A. Ohanian      1960        \\N   \n4  nm0002853        Chris Petts        \\N        \\N   \n\n                                primaryProfession  \\\n0                     actress,soundtrack,producer   \n1                              actress,soundtrack   \n2                        producer,actor,executive   \n3  editor,editorial_department,production_manager   \n4                   visual_effects,director,actor   \n\n                            knownForTitles  \n0  tt0117665,tt0293508,tt0119229,tt0119217  \n1  tt0044926,tt0052104,tt0093629,tt0102510  \n2  tt0101531,tt1986770,tt0109760,tt0085407  \n3  tt0117421,tt0110797,tt0210127,tt0118869  \n4  tt0149261,tt4154756,tt4154796,tt0120738  \n"
    }
   ],
   "source": [
    "p = 0.001\n",
    "\n",
    "title_principals = None\n",
    "title_principals = pd.read_csv(\"../movies_dataset/title.principals.tsv\",sep='\\t',skiprows=lambda i: i>0 and random.random() > p)\n",
    "print(title_principals.head())\n",
    "\n",
    "title_basics = None\n",
    "title_basics = pd.read_csv(\"../movies_dataset/title.basics.tsv\", sep='\\t', skiprows=lambda i: i>0 and random.random() > p)\n",
    "print(title_basics.head())\n",
    "\n",
    "name_basics = None\n",
    "name_basics = pd.read_csv(\"../movies_dataset/name.basics.tsv\", sep='\\t', skiprows=lambda i: i>0 and random.random() > p)\n",
    "print(name_basics.head())"
   ]
  },
  {
   "cell_type": "code",
   "execution_count": null,
   "metadata": {
    "tags": []
   },
   "outputs": [],
   "source": [
    "actor_movie = title_principals.dropna"
   ]
  },
  {
   "cell_type": "code",
   "execution_count": null,
   "metadata": {},
   "outputs": [],
   "source": []
  }
 ]
}