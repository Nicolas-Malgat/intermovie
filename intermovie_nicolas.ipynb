{
 "metadata": {
  "language_info": {
   "codemirror_mode": {
    "name": "ipython",
    "version": 3
   },
   "file_extension": ".py",
   "mimetype": "text/x-python",
   "name": "python",
   "nbconvert_exporter": "python",
   "pygments_lexer": "ipython3",
   "version": "3.7.6-final"
  },
  "orig_nbformat": 2,
  "kernelspec": {
   "name": "python_defaultSpec_1600680978226",
   "display_name": "Python 3.7.6 64-bit ('base': conda)"
  }
 },
 "nbformat": 4,
 "nbformat_minor": 2,
 "cells": [
  {
   "source": [
    "# Intermovie - projet 6 \n",
    "Utilisation de dataframes pour manipuler des données. Exportation en CSV pour chaque dataframe créé. "
   ],
   "cell_type": "markdown",
   "metadata": {}
  },
  {
   "source": [
    "## Import des librairies et chargement des dataframes"
   ],
   "cell_type": "markdown",
   "metadata": {}
  },
  {
   "source": [
    "%load_ext autoreload\n",
    "%autoreload 2\n",
    "\n",
    "import pandas as pd\n",
    "import numpy as np\n",
    "import csv\n",
    "from my_timer import MyTimer\n",
    "import random\n"
   ],
   "cell_type": "code",
   "metadata": {
    "tags": []
   },
   "execution_count": 39,
   "outputs": [
    {
     "output_type": "stream",
     "name": "stdout",
     "text": "The autoreload extension is already loaded. To reload it, use:\n  %reload_ext autoreload\n"
    }
   ]
  },
  {
   "cell_type": "code",
   "execution_count": null,
   "metadata": {},
   "outputs": [],
   "source": [
    "# identifiant, nom, dates et travail\n",
    "dataframe_name_basics = pd.read_csv(\"../movies_dataset/name.basics.tsv\",sep='\\t')\n",
    "# identifiant et titre de film\n",
    "dataframe_title_akas = pd.read_csv(\"../movies_dataset/title.akas.tsv\",sep='\\t')\n",
    "# films avec leur titre, genre etc\n",
    "dataframe_title_basics = pd.read_csv(\"../movies_dataset/title.basics.tsv\",sep='\\t')\n",
    "# identifiant de personnes avec leur film\n",
    "title_principals = pd.read_csv(\"../movies_dataset/title.principals.tsv\",sep='\\t')\n",
    "# film avec note et nbr vote\n",
    "dataframe_title_ratings = pd.read_csv(\"../movies_dataset/title.ratings.tsv\",sep='\\t')\n",
    "\n",
    "# dataframe_title_principals.head()"
   ]
  },
  {
   "source": [
    "## 1. Sélection de la liste des acteurs par films"
   ],
   "cell_type": "markdown",
   "metadata": {}
  },
  {
   "source": [
    "Chargement d'un echantillon de title.principals.tsv"
   ],
   "cell_type": "markdown",
   "metadata": {}
  },
  {
   "cell_type": "code",
   "execution_count": 45,
   "metadata": {
    "tags": []
   },
   "outputs": [
    {
     "output_type": "stream",
     "name": "stdout",
     "text": "tconst  ordering     nconst  category job        characters\n0  tt0000047         1  nm0617588  director  \\N                \\N\n1  tt0000369         1  nm0005717  director  \\N                \\N\n2  tt0000520         2  nm2329855   actress  \\N    [\"Mrs. Dyson\"]\n3  tt0000826         3  nm0704334     actor  \\N  [\"2nd Bachelor\"]\n4  tt0000862         1  nm5289829     actor  \\N       [\"Charles\"] \n-----------------------------------------\n\n      tconst titleType             primaryTitle            originalTitle  \\\n0  tt0001254     short  The Honor of His Family  The Honor of His Family   \n1  tt0002016     short    Los amantes de Teruel    Los amantes de Teruel   \n2  tt0002272     short  Indian Romeo and Juliet  Indian Romeo and Juliet   \n3  tt0004646     short              Strongheart              Strongheart   \n4  tt0004849     short   Bad Buck of Santa Ynez   Bad Buck of Santa Ynez   \n\n   isAdult startYear endYear runtimeMinutes                 genres  \n0        0      1910      \\N             11            Drama,Short  \n1        0      1912      \\N             \\N            Drama,Short  \n2        0      1912      \\N             \\N  Romance,Short,Western  \n3        0      1914      \\N             30   Action,Short,Western  \n4        0      1915      \\N             20          Short,Western   \n-----------------------------------------\n\n      nconst            primaryName birthYear deathYear  \\\n0  nm0001576       Heather O'Rourke      1975      1988   \n1  nm0003297             Andy Brown        \\N        \\N   \n2  nm0003979       Daniel Schweiger        \\N        \\N   \n3  nm0005460       Mary Steenburgen      1953        \\N   \n4  nm0007976  Gregory Steven Abbott        \\N        \\N   \n\n                                  primaryProfession  \\\n0                                           actress   \n1  editorial_department,production_manager,producer   \n2              actor,miscellaneous,music_department   \n3                       actress,producer,soundtrack   \n4                 camera_department,cinematographer   \n\n                            knownForTitles  \n0  tt0070992,tt0091778,tt0084516,tt0095889  \n1  tt1265619,tt0327375,tt2417970,tt0253335  \n2  tt0457939,tt0463034,tt1464540,tt0279493  \n3  tt0099088,tt1204975,tt0838283,tt0080025  \n4  tt0193576,tt0118970,tt0279695,tt0125879   \n-----------------------------------------\n\n"
    }
   ],
   "source": [
    "p = 0.001\n",
    "\n",
    "title_principals = None\n",
    "title_principals = pd.read_csv(\"../movies_dataset/title.principals.tsv\",sep='\\t',skiprows=lambda i: i>0 and random.random() > p)\n",
    "print(title_principals.head(), '\\n-----------------------------------------\\n')\n",
    "\n",
    "title_basics = None\n",
    "title_basics = pd.read_csv(\"../movies_dataset/title.basics.tsv\", sep='\\t', skiprows=lambda i: i>0 and random.random() > p)\n",
    "print(title_basics.head(), '\\n-----------------------------------------\\n')\n",
    "\n",
    "name_basics = None\n",
    "name_basics = pd.read_csv(\"../movies_dataset/name.basics.tsv\", sep='\\t', skiprows=lambda i: i>0 and random.random() > p)\n",
    "print(name_basics.head(), '\\n-----------------------------------------\\n')"
   ]
  },
  {
   "cell_type": "code",
   "execution_count": 44,
   "metadata": {
    "tags": []
   },
   "outputs": [
    {
     "output_type": "stream",
     "name": "stdout",
     "text": "218148\n218148\n"
    }
   ],
   "source": [
    "print(title_principals.size)\n",
    "actor_movie = title_principals.dropna()\n",
    "print(actor_movie.size)"
   ]
  },
  {
   "cell_type": "code",
   "execution_count": 50,
   "metadata": {
    "tags": []
   },
   "outputs": [
    {
     "output_type": "stream",
     "name": "stdout",
     "text": "Elapsed time: 0.0001 seconds\nElapsed time: 0.3499 seconds\n"
    }
   ],
   "source": [
    "from my_timer import MyTimer\n",
    "\n",
    "timer = MyTimer()\n",
    "timer.start()\n",
    "for i in range(0):\n",
    "    i=i\n",
    "timer.stop()\n",
    "\n",
    "timer.start()\n",
    "for i in range(999099):\n",
    "    i=i\n",
    "timer.stop()"
   ]
  },
  {
   "cell_type": "code",
   "execution_count": null,
   "metadata": {},
   "outputs": [],
   "source": []
  }
 ]
}