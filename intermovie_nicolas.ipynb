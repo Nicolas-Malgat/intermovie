{
 "metadata": {
  "language_info": {
   "codemirror_mode": {
    "name": "ipython",
    "version": 3
   },
   "file_extension": ".py",
   "mimetype": "text/x-python",
   "name": "python",
   "nbconvert_exporter": "python",
   "pygments_lexer": "ipython3",
   "version": "3.7.6-final"
  },
  "orig_nbformat": 2,
  "kernelspec": {
   "name": "python_defaultSpec_1600864165678",
   "display_name": "Python 3.7.6 64-bit ('base': conda)"
  }
 },
 "nbformat": 4,
 "nbformat_minor": 2,
 "cells": [
  {
   "source": [
    "# Intermovie - projet 6 \n",
    "Utilisation de dataframes pour manipuler des données. Exportation en CSV pour chaque dataframe créé. "
   ],
   "cell_type": "markdown",
   "metadata": {}
  },
  {
   "source": [
    "## Import des librairies et chargement des dataframes"
   ],
   "cell_type": "markdown",
   "metadata": {}
  },
  {
   "source": [
    "%load_ext autoreload\n",
    "%autoreload 2\n",
    "\n",
    "import pandas as pd\n"
   ],
   "cell_type": "code",
   "metadata": {
    "tags": []
   },
   "execution_count": null,
   "outputs": []
  },
  {
   "cell_type": "code",
   "execution_count": 7,
   "metadata": {
    "tags": []
   },
   "outputs": [
    {
     "output_type": "stream",
     "name": "stdout",
     "text": "nconst      primaryName birthYear deathYear  \\\n0  nm0000001     Fred Astaire      1899      1987   \n1  nm0000002    Lauren Bacall      1924      2014   \n2  nm0000003  Brigitte Bardot      1934        \\N   \n3  nm0000004     John Belushi      1949      1982   \n4  nm0000005   Ingmar Bergman      1918      2007   \n\n                primaryProfession                           knownForTitles  \n0  soundtrack,actor,miscellaneous  tt0050419,tt0053137,tt0072308,tt0043044  \n1              actress,soundtrack  tt0071877,tt0117057,tt0038355,tt0037382  \n2     actress,soundtrack,producer  tt0054452,tt0049189,tt0059956,tt0057345  \n3         actor,writer,soundtrack  tt0077975,tt0072562,tt0080455,tt0078723  \n4           writer,director,actor  tt0069467,tt0050976,tt0083922,tt0050986   \n\n\n     titleId  ordering                      title region language  \\\n0  tt0000001         1  Carmencita - spanyol tánc     HU       \\N   \n1  tt0000001         2                 Καρμενσίτα     GR       \\N   \n2  tt0000001         3                 Карменсита     RU       \\N   \n3  tt0000001         4                 Carmencita     US       \\N   \n4  tt0000001         5                 Carmencita     \\N       \\N   \n\n         types attributes  isOriginalTitle  \n0  imdbDisplay         \\N                0  \n1           \\N         \\N                0  \n2           \\N         \\N                0  \n3           \\N         \\N                0  \n4     original         \\N                1   \n\n\n      tconst titleType            primaryTitle           originalTitle  \\\n0  tt0000001     short              Carmencita              Carmencita   \n1  tt0000002     short  Le clown et ses chiens  Le clown et ses chiens   \n2  tt0000003     short          Pauvre Pierrot          Pauvre Pierrot   \n3  tt0000004     short             Un bon bock             Un bon bock   \n4  tt0000005     short        Blacksmith Scene        Blacksmith Scene   \n\n   isAdult  startYear endYear runtimeMinutes                    genres  \n0        0       1894      \\N              1         Documentary,Short  \n1        0       1892      \\N              5           Animation,Short  \n2        0       1892      \\N              4  Animation,Comedy,Romance  \n3        0       1892      \\N             \\N           Animation,Short  \n4        0       1893      \\N              1              Comedy,Short   \n\n\n      tconst  ordering     nconst         category                      job  \\\n0  tt0000001         1  nm1588970             self                       \\N   \n1  tt0000001         2  nm0005690         director                       \\N   \n2  tt0000001         3  nm0374658  cinematographer  director of photography   \n3  tt0000002         1  nm0721526         director                       \\N   \n4  tt0000002         2  nm1335271         composer                       \\N   \n\n    characters  \n0  [\"Herself\"]  \n1           \\N  \n2           \\N  \n3           \\N  \n4           \\N   \n\n\n      tconst  averageRating  numVotes\n0  tt0000001            5.6      1550\n1  tt0000002            6.1       186\n2  tt0000003            6.5      1207\n3  tt0000004            6.2       113\n4  tt0000005            6.1      1934 \n\n\n"
    }
   ],
   "source": [
    "# identifiant film, nom, dates et travail des personnes\n",
    "name_basics = pd.read_csv(\"../movies_dataset/name.basics.tsv\",sep='\\t', nrows=100)\n",
    "# identifiant, titre, region de film\n",
    "title_akas = pd.read_csv(\"../movies_dataset/title.akas.tsv\",sep='\\t', nrows=100)\n",
    "# films avec leur titre, genre etc\n",
    "title_basics = pd.read_csv(\"../movies_dataset/title.basics.tsv\",sep='\\t', nrows=100)\n",
    "# identifiant de personnes avec leur film\n",
    "title_principals = pd.read_csv(\"../movies_dataset/title.principals.tsv\",sep='\\t', nrows=100)\n",
    "# film avec note et nbr vote\n",
    "title_ratings = pd.read_csv(\"../movies_dataset/title.ratings.tsv\",sep='\\t', nrows=100)\n",
    "\n",
    "list_df = [name_basics, title_akas, title_basics, title_principals, title_ratings]\n",
    "for df in list_df:\n",
    "    print(df.head(), '\\n\\n')"
   ]
  },
  {
   "cell_type": "code",
   "execution_count": 8,
   "metadata": {},
   "outputs": [
    {
     "output_type": "execute_result",
     "data": {
      "text/plain": "      titleId  ordering                      title region language  \\\n0   tt0000001         1  Carmencita - spanyol tánc     HU       \\N   \n1   tt0000001         2                 Καρμενσίτα     GR       \\N   \n2   tt0000001         3                 Карменсита     RU       \\N   \n3   tt0000001         4                 Carmencita     US       \\N   \n4   tt0000001         5                 Carmencita     \\N       \\N   \n5   tt0000002         1     Le clown et ses chiens     \\N       \\N   \n6   tt0000002         2          A bohóc és kutyái     HU       \\N   \n7   tt0000002         3     Le clown et ses chiens     FR       \\N   \n8   tt0000002         4      Clovnul si cainii sai     RO       \\N   \n9   tt0000002         5         Клоун и его собаки     RU       \\N   \n10  tt0000002         6     The Clown and His Dogs     US       \\N   \n11  tt0000003         1           Sarmanul Pierrot     RO       \\N   \n12  tt0000003         2            Szegény Pierrot     HU       \\N   \n13  tt0000003         3               Бедный Пьеро     RU       \\N   \n14  tt0000003         4             Pauvre Pierrot     \\N       \\N   \n15  tt0000003         5               Poor Pierrot     GB       \\N   \n16  tt0000003         6             Pauvre Pierrot     FR       \\N   \n17  tt0000004         1                Un bon bock     \\N       \\N   \n18  tt0000004         2             Un ţap de bere     RO       \\N   \n19  tt0000004         3                Un bon bock     FR       \\N   \n\n          types             attributes  isOriginalTitle  \n0   imdbDisplay                     \\N                0  \n1            \\N                     \\N                0  \n2            \\N                     \\N                0  \n3            \\N                     \\N                0  \n4      original                     \\N                1  \n5      original                     \\N                1  \n6   imdbDisplay                     \\N                0  \n7            \\N                     \\N                0  \n8   imdbDisplay                     \\N                0  \n9            \\N                     \\N                0  \n10           \\N  literal English title                0  \n11  imdbDisplay                     \\N                0  \n12  imdbDisplay                     \\N                0  \n13           \\N                     \\N                0  \n14     original                     \\N                1  \n15  imdbDisplay                     \\N                0  \n16           \\N                     \\N                0  \n17     original                     \\N                1  \n18           \\N                     \\N                0  \n19           \\N                     \\N                0  ",
      "text/html": "<div>\n<style scoped>\n    .dataframe tbody tr th:only-of-type {\n        vertical-align: middle;\n    }\n\n    .dataframe tbody tr th {\n        vertical-align: top;\n    }\n\n    .dataframe thead th {\n        text-align: right;\n    }\n</style>\n<table border=\"1\" class=\"dataframe\">\n  <thead>\n    <tr style=\"text-align: right;\">\n      <th></th>\n      <th>titleId</th>\n      <th>ordering</th>\n      <th>title</th>\n      <th>region</th>\n      <th>language</th>\n      <th>types</th>\n      <th>attributes</th>\n      <th>isOriginalTitle</th>\n    </tr>\n  </thead>\n  <tbody>\n    <tr>\n      <th>0</th>\n      <td>tt0000001</td>\n      <td>1</td>\n      <td>Carmencita - spanyol tánc</td>\n      <td>HU</td>\n      <td>\\N</td>\n      <td>imdbDisplay</td>\n      <td>\\N</td>\n      <td>0</td>\n    </tr>\n    <tr>\n      <th>1</th>\n      <td>tt0000001</td>\n      <td>2</td>\n      <td>Καρμενσίτα</td>\n      <td>GR</td>\n      <td>\\N</td>\n      <td>\\N</td>\n      <td>\\N</td>\n      <td>0</td>\n    </tr>\n    <tr>\n      <th>2</th>\n      <td>tt0000001</td>\n      <td>3</td>\n      <td>Карменсита</td>\n      <td>RU</td>\n      <td>\\N</td>\n      <td>\\N</td>\n      <td>\\N</td>\n      <td>0</td>\n    </tr>\n    <tr>\n      <th>3</th>\n      <td>tt0000001</td>\n      <td>4</td>\n      <td>Carmencita</td>\n      <td>US</td>\n      <td>\\N</td>\n      <td>\\N</td>\n      <td>\\N</td>\n      <td>0</td>\n    </tr>\n    <tr>\n      <th>4</th>\n      <td>tt0000001</td>\n      <td>5</td>\n      <td>Carmencita</td>\n      <td>\\N</td>\n      <td>\\N</td>\n      <td>original</td>\n      <td>\\N</td>\n      <td>1</td>\n    </tr>\n    <tr>\n      <th>5</th>\n      <td>tt0000002</td>\n      <td>1</td>\n      <td>Le clown et ses chiens</td>\n      <td>\\N</td>\n      <td>\\N</td>\n      <td>original</td>\n      <td>\\N</td>\n      <td>1</td>\n    </tr>\n    <tr>\n      <th>6</th>\n      <td>tt0000002</td>\n      <td>2</td>\n      <td>A bohóc és kutyái</td>\n      <td>HU</td>\n      <td>\\N</td>\n      <td>imdbDisplay</td>\n      <td>\\N</td>\n      <td>0</td>\n    </tr>\n    <tr>\n      <th>7</th>\n      <td>tt0000002</td>\n      <td>3</td>\n      <td>Le clown et ses chiens</td>\n      <td>FR</td>\n      <td>\\N</td>\n      <td>\\N</td>\n      <td>\\N</td>\n      <td>0</td>\n    </tr>\n    <tr>\n      <th>8</th>\n      <td>tt0000002</td>\n      <td>4</td>\n      <td>Clovnul si cainii sai</td>\n      <td>RO</td>\n      <td>\\N</td>\n      <td>imdbDisplay</td>\n      <td>\\N</td>\n      <td>0</td>\n    </tr>\n    <tr>\n      <th>9</th>\n      <td>tt0000002</td>\n      <td>5</td>\n      <td>Клоун и его собаки</td>\n      <td>RU</td>\n      <td>\\N</td>\n      <td>\\N</td>\n      <td>\\N</td>\n      <td>0</td>\n    </tr>\n    <tr>\n      <th>10</th>\n      <td>tt0000002</td>\n      <td>6</td>\n      <td>The Clown and His Dogs</td>\n      <td>US</td>\n      <td>\\N</td>\n      <td>\\N</td>\n      <td>literal English title</td>\n      <td>0</td>\n    </tr>\n    <tr>\n      <th>11</th>\n      <td>tt0000003</td>\n      <td>1</td>\n      <td>Sarmanul Pierrot</td>\n      <td>RO</td>\n      <td>\\N</td>\n      <td>imdbDisplay</td>\n      <td>\\N</td>\n      <td>0</td>\n    </tr>\n    <tr>\n      <th>12</th>\n      <td>tt0000003</td>\n      <td>2</td>\n      <td>Szegény Pierrot</td>\n      <td>HU</td>\n      <td>\\N</td>\n      <td>imdbDisplay</td>\n      <td>\\N</td>\n      <td>0</td>\n    </tr>\n    <tr>\n      <th>13</th>\n      <td>tt0000003</td>\n      <td>3</td>\n      <td>Бедный Пьеро</td>\n      <td>RU</td>\n      <td>\\N</td>\n      <td>\\N</td>\n      <td>\\N</td>\n      <td>0</td>\n    </tr>\n    <tr>\n      <th>14</th>\n      <td>tt0000003</td>\n      <td>4</td>\n      <td>Pauvre Pierrot</td>\n      <td>\\N</td>\n      <td>\\N</td>\n      <td>original</td>\n      <td>\\N</td>\n      <td>1</td>\n    </tr>\n    <tr>\n      <th>15</th>\n      <td>tt0000003</td>\n      <td>5</td>\n      <td>Poor Pierrot</td>\n      <td>GB</td>\n      <td>\\N</td>\n      <td>imdbDisplay</td>\n      <td>\\N</td>\n      <td>0</td>\n    </tr>\n    <tr>\n      <th>16</th>\n      <td>tt0000003</td>\n      <td>6</td>\n      <td>Pauvre Pierrot</td>\n      <td>FR</td>\n      <td>\\N</td>\n      <td>\\N</td>\n      <td>\\N</td>\n      <td>0</td>\n    </tr>\n    <tr>\n      <th>17</th>\n      <td>tt0000004</td>\n      <td>1</td>\n      <td>Un bon bock</td>\n      <td>\\N</td>\n      <td>\\N</td>\n      <td>original</td>\n      <td>\\N</td>\n      <td>1</td>\n    </tr>\n    <tr>\n      <th>18</th>\n      <td>tt0000004</td>\n      <td>2</td>\n      <td>Un ţap de bere</td>\n      <td>RO</td>\n      <td>\\N</td>\n      <td>\\N</td>\n      <td>\\N</td>\n      <td>0</td>\n    </tr>\n    <tr>\n      <th>19</th>\n      <td>tt0000004</td>\n      <td>3</td>\n      <td>Un bon bock</td>\n      <td>FR</td>\n      <td>\\N</td>\n      <td>\\N</td>\n      <td>\\N</td>\n      <td>0</td>\n    </tr>\n  </tbody>\n</table>\n</div>"
     },
     "metadata": {},
     "execution_count": 8
    }
   ],
   "source": [
    "title_akas.head(n=20)"
   ]
  },
  {
   "source": [
    "## 1. Sélection de la liste des acteurs par films"
   ],
   "cell_type": "markdown",
   "metadata": {}
  },
  {
   "source": [
    "Chargement d'un echantillon de title.principals.tsv"
   ],
   "cell_type": "markdown",
   "metadata": {}
  },
  {
   "cell_type": "code",
   "execution_count": null,
   "metadata": {
    "tags": []
   },
   "outputs": [],
   "source": [
    "p = 0.001\n",
    "\n",
    "title_principals = None\n",
    "title_principals = pd.read_csv(\"../movies_dataset/title.principals.tsv\",sep='\\t',skiprows=lambda i: i>0 and random.random() > p)\n",
    "print(title_principals.head(), '\\n-----------------------------------------\\n')\n",
    "\n",
    "title_basics = None\n",
    "title_basics = pd.read_csv(\"../movies_dataset/title.basics.tsv\", sep='\\t', skiprows=lambda i: i>0 and random.random() > p)\n",
    "print(title_basics.head(), '\\n-----------------------------------------\\n')\n",
    "\n",
    "name_basics = None\n",
    "name_basics = pd.read_csv(\"../movies_dataset/name.basics.tsv\", sep='\\t', skiprows=lambda i: i>0 and random.random() > p)\n",
    "print(name_basics.head(), '\\n-----------------------------------------\\n')"
   ]
  },
  {
   "cell_type": "code",
   "execution_count": null,
   "metadata": {
    "tags": []
   },
   "outputs": [],
   "source": [
    "print(title_principals.size)\n",
    "actor_movie = title_principals.dropna()\n",
    "print(actor_movie.size)"
   ]
  },
  {
   "cell_type": "code",
   "execution_count": null,
   "metadata": {
    "tags": []
   },
   "outputs": [],
   "source": [
    "from my_timer import MyTimer\n",
    "\n",
    "timer = MyTimer()\n",
    "timer.start()\n",
    "for i in range(0):\n",
    "    i=i\n",
    "timer.stop()\n",
    "\n",
    "timer.start()\n",
    "for i in range(999099):\n",
    "    i=i\n",
    "timer.stop()"
   ]
  },
  {
   "cell_type": "code",
   "execution_count": null,
   "metadata": {},
   "outputs": [],
   "source": []
  }
 ]
}